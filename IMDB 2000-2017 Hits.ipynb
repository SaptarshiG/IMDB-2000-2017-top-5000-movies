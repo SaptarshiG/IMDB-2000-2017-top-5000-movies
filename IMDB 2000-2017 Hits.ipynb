{
 "cells": [
  {
   "cell_type": "code",
   "execution_count": 1,
   "metadata": {},
   "outputs": [],
   "source": [
    "import numpy as np\n",
    "import pandas as pd\n",
    "import os"
   ]
  },
  {
   "cell_type": "code",
   "execution_count": 2,
   "metadata": {},
   "outputs": [],
   "source": [
    "dataMoviesFull = pd.read_excel('Movies1.xlsx')"
   ]
  },
  {
   "cell_type": "code",
   "execution_count": 3,
   "metadata": {},
   "outputs": [
    {
     "data": {
      "text/html": [
       "<div>\n",
       "<style scoped>\n",
       "    .dataframe tbody tr th:only-of-type {\n",
       "        vertical-align: middle;\n",
       "    }\n",
       "\n",
       "    .dataframe tbody tr th {\n",
       "        vertical-align: top;\n",
       "    }\n",
       "\n",
       "    .dataframe thead th {\n",
       "        text-align: right;\n",
       "    }\n",
       "</style>\n",
       "<table border=\"1\" class=\"dataframe\">\n",
       "  <thead>\n",
       "    <tr style=\"text-align: right;\">\n",
       "      <th></th>\n",
       "      <th>Unnamed: 0</th>\n",
       "      <th>audienceRating</th>\n",
       "      <th>Genre</th>\n",
       "      <th>criticRating</th>\n",
       "      <th>timeMin</th>\n",
       "      <th>grossMillions</th>\n",
       "      <th>Movie</th>\n",
       "      <th>Vote</th>\n",
       "      <th>Year</th>\n",
       "    </tr>\n",
       "  </thead>\n",
       "  <tbody>\n",
       "    <tr>\n",
       "      <th>0</th>\n",
       "      <td>0</td>\n",
       "      <td>8.5</td>\n",
       "      <td>Action</td>\n",
       "      <td>67</td>\n",
       "      <td>155</td>\n",
       "      <td>187.71</td>\n",
       "      <td>Gladiator</td>\n",
       "      <td>1096457</td>\n",
       "      <td>2000</td>\n",
       "    </tr>\n",
       "    <tr>\n",
       "      <th>1</th>\n",
       "      <td>1</td>\n",
       "      <td>8.5</td>\n",
       "      <td>Mystery</td>\n",
       "      <td>80</td>\n",
       "      <td>113</td>\n",
       "      <td>25.54</td>\n",
       "      <td>Memento</td>\n",
       "      <td>942923</td>\n",
       "      <td>2000</td>\n",
       "    </tr>\n",
       "    <tr>\n",
       "      <th>2</th>\n",
       "      <td>2</td>\n",
       "      <td>8.3</td>\n",
       "      <td>Comedy</td>\n",
       "      <td>55</td>\n",
       "      <td>104</td>\n",
       "      <td>30.33</td>\n",
       "      <td>Snatch - Tu braques ou tu raques</td>\n",
       "      <td>663244</td>\n",
       "      <td>2000</td>\n",
       "    </tr>\n",
       "    <tr>\n",
       "      <th>3</th>\n",
       "      <td>3</td>\n",
       "      <td>8.3</td>\n",
       "      <td>Drama</td>\n",
       "      <td>68</td>\n",
       "      <td>102</td>\n",
       "      <td>3.64</td>\n",
       "      <td>Requiem for a Dream</td>\n",
       "      <td>640047</td>\n",
       "      <td>2000</td>\n",
       "    </tr>\n",
       "    <tr>\n",
       "      <th>4</th>\n",
       "      <td>4</td>\n",
       "      <td>7.4</td>\n",
       "      <td>Action</td>\n",
       "      <td>64</td>\n",
       "      <td>104</td>\n",
       "      <td>157.30</td>\n",
       "      <td>X-Men</td>\n",
       "      <td>498388</td>\n",
       "      <td>2000</td>\n",
       "    </tr>\n",
       "  </tbody>\n",
       "</table>\n",
       "</div>"
      ],
      "text/plain": [
       "   Unnamed: 0  audienceRating    Genre  criticRating  timeMin  grossMillions  \\\n",
       "0           0             8.5   Action            67      155         187.71   \n",
       "1           1             8.5  Mystery            80      113          25.54   \n",
       "2           2             8.3   Comedy            55      104          30.33   \n",
       "3           3             8.3    Drama            68      102           3.64   \n",
       "4           4             7.4   Action            64      104         157.30   \n",
       "\n",
       "                              Movie     Vote  Year  \n",
       "0                         Gladiator  1096457  2000  \n",
       "1                           Memento   942923  2000  \n",
       "2  Snatch - Tu braques ou tu raques   663244  2000  \n",
       "3               Requiem for a Dream   640047  2000  \n",
       "4                             X-Men   498388  2000  "
      ]
     },
     "execution_count": 3,
     "metadata": {},
     "output_type": "execute_result"
    }
   ],
   "source": [
    "dataMoviesFull.head()"
   ]
  },
  {
   "cell_type": "code",
   "execution_count": 4,
   "metadata": {},
   "outputs": [
    {
     "data": {
      "text/plain": [
       "4583"
      ]
     },
     "execution_count": 4,
     "metadata": {},
     "output_type": "execute_result"
    }
   ],
   "source": [
    "len(dataMoviesFull) #My dataset contains 4583 row"
   ]
  },
  {
   "cell_type": "code",
   "execution_count": 5,
   "metadata": {},
   "outputs": [
    {
     "data": {
      "text/html": [
       "<div>\n",
       "<style scoped>\n",
       "    .dataframe tbody tr th:only-of-type {\n",
       "        vertical-align: middle;\n",
       "    }\n",
       "\n",
       "    .dataframe tbody tr th {\n",
       "        vertical-align: top;\n",
       "    }\n",
       "\n",
       "    .dataframe thead th {\n",
       "        text-align: right;\n",
       "    }\n",
       "</style>\n",
       "<table border=\"1\" class=\"dataframe\">\n",
       "  <thead>\n",
       "    <tr style=\"text-align: right;\">\n",
       "      <th></th>\n",
       "      <th>Unnamed: 0</th>\n",
       "      <th>audienceRating</th>\n",
       "      <th>Genre</th>\n",
       "      <th>criticRating</th>\n",
       "      <th>timeMin</th>\n",
       "      <th>grossMillions</th>\n",
       "      <th>Movie</th>\n",
       "      <th>Vote</th>\n",
       "      <th>Year</th>\n",
       "    </tr>\n",
       "  </thead>\n",
       "  <tbody>\n",
       "    <tr>\n",
       "      <th>0</th>\n",
       "      <td>0</td>\n",
       "      <td>8.5</td>\n",
       "      <td>Action</td>\n",
       "      <td>67</td>\n",
       "      <td>155</td>\n",
       "      <td>187.71</td>\n",
       "      <td>Gladiator</td>\n",
       "      <td>1096457</td>\n",
       "      <td>2000</td>\n",
       "    </tr>\n",
       "    <tr>\n",
       "      <th>1</th>\n",
       "      <td>1</td>\n",
       "      <td>8.5</td>\n",
       "      <td>Mystery</td>\n",
       "      <td>80</td>\n",
       "      <td>113</td>\n",
       "      <td>25.54</td>\n",
       "      <td>Memento</td>\n",
       "      <td>942923</td>\n",
       "      <td>2000</td>\n",
       "    </tr>\n",
       "    <tr>\n",
       "      <th>2</th>\n",
       "      <td>2</td>\n",
       "      <td>8.3</td>\n",
       "      <td>Comedy</td>\n",
       "      <td>55</td>\n",
       "      <td>104</td>\n",
       "      <td>30.33</td>\n",
       "      <td>Snatch - Tu braques ou tu raques</td>\n",
       "      <td>663244</td>\n",
       "      <td>2000</td>\n",
       "    </tr>\n",
       "    <tr>\n",
       "      <th>3</th>\n",
       "      <td>3</td>\n",
       "      <td>8.3</td>\n",
       "      <td>Drama</td>\n",
       "      <td>68</td>\n",
       "      <td>102</td>\n",
       "      <td>3.64</td>\n",
       "      <td>Requiem for a Dream</td>\n",
       "      <td>640047</td>\n",
       "      <td>2000</td>\n",
       "    </tr>\n",
       "    <tr>\n",
       "      <th>4</th>\n",
       "      <td>4</td>\n",
       "      <td>7.4</td>\n",
       "      <td>Action</td>\n",
       "      <td>64</td>\n",
       "      <td>104</td>\n",
       "      <td>157.30</td>\n",
       "      <td>X-Men</td>\n",
       "      <td>498388</td>\n",
       "      <td>2000</td>\n",
       "    </tr>\n",
       "    <tr>\n",
       "      <th>5</th>\n",
       "      <td>5</td>\n",
       "      <td>7.8</td>\n",
       "      <td>Adventure</td>\n",
       "      <td>73</td>\n",
       "      <td>143</td>\n",
       "      <td>233.63</td>\n",
       "      <td>Seul au monde</td>\n",
       "      <td>435798</td>\n",
       "      <td>2000</td>\n",
       "    </tr>\n",
       "    <tr>\n",
       "      <th>6</th>\n",
       "      <td>6</td>\n",
       "      <td>7.6</td>\n",
       "      <td>Crime</td>\n",
       "      <td>64</td>\n",
       "      <td>102</td>\n",
       "      <td>15.07</td>\n",
       "      <td>American Psycho</td>\n",
       "      <td>396271</td>\n",
       "      <td>2000</td>\n",
       "    </tr>\n",
       "    <tr>\n",
       "      <th>7</th>\n",
       "      <td>7</td>\n",
       "      <td>7.2</td>\n",
       "      <td>Drama</td>\n",
       "      <td>62</td>\n",
       "      <td>106</td>\n",
       "      <td>95.01</td>\n",
       "      <td>Incassable</td>\n",
       "      <td>284747</td>\n",
       "      <td>2000</td>\n",
       "    </tr>\n",
       "    <tr>\n",
       "      <th>8</th>\n",
       "      <td>8</td>\n",
       "      <td>7.0</td>\n",
       "      <td>Comedy</td>\n",
       "      <td>73</td>\n",
       "      <td>108</td>\n",
       "      <td>166.24</td>\n",
       "      <td>Mon beau-père et moi</td>\n",
       "      <td>277723</td>\n",
       "      <td>2000</td>\n",
       "    </tr>\n",
       "    <tr>\n",
       "      <th>9</th>\n",
       "      <td>9</td>\n",
       "      <td>6.1</td>\n",
       "      <td>Action</td>\n",
       "      <td>59</td>\n",
       "      <td>123</td>\n",
       "      <td>215.41</td>\n",
       "      <td>M-I:2 Mission: Impossible 2</td>\n",
       "      <td>263188</td>\n",
       "      <td>2000</td>\n",
       "    </tr>\n",
       "  </tbody>\n",
       "</table>\n",
       "</div>"
      ],
      "text/plain": [
       "   Unnamed: 0  audienceRating      Genre  criticRating  timeMin  \\\n",
       "0           0             8.5     Action            67      155   \n",
       "1           1             8.5    Mystery            80      113   \n",
       "2           2             8.3     Comedy            55      104   \n",
       "3           3             8.3      Drama            68      102   \n",
       "4           4             7.4     Action            64      104   \n",
       "5           5             7.8  Adventure            73      143   \n",
       "6           6             7.6      Crime            64      102   \n",
       "7           7             7.2      Drama            62      106   \n",
       "8           8             7.0     Comedy            73      108   \n",
       "9           9             6.1     Action            59      123   \n",
       "\n",
       "   grossMillions                             Movie     Vote  Year  \n",
       "0         187.71                         Gladiator  1096457  2000  \n",
       "1          25.54                           Memento   942923  2000  \n",
       "2          30.33  Snatch - Tu braques ou tu raques   663244  2000  \n",
       "3           3.64               Requiem for a Dream   640047  2000  \n",
       "4         157.30                             X-Men   498388  2000  \n",
       "5         233.63                     Seul au monde   435798  2000  \n",
       "6          15.07                   American Psycho   396271  2000  \n",
       "7          95.01                        Incassable   284747  2000  \n",
       "8         166.24              Mon beau-père et moi   277723  2000  \n",
       "9         215.41       M-I:2 Mission: Impossible 2   263188  2000  "
      ]
     },
     "execution_count": 5,
     "metadata": {},
     "output_type": "execute_result"
    }
   ],
   "source": [
    "dataMoviesFull.head(10)"
   ]
  },
  {
   "cell_type": "code",
   "execution_count": 17,
   "metadata": {},
   "outputs": [],
   "source": [
    "del dataMoviesFull['Unnamed: 0'] #I've deleted the Unnamed column"
   ]
  },
  {
   "cell_type": "code",
   "execution_count": 6,
   "metadata": {},
   "outputs": [
    {
     "data": {
      "text/html": [
       "<div>\n",
       "<style scoped>\n",
       "    .dataframe tbody tr th:only-of-type {\n",
       "        vertical-align: middle;\n",
       "    }\n",
       "\n",
       "    .dataframe tbody tr th {\n",
       "        vertical-align: top;\n",
       "    }\n",
       "\n",
       "    .dataframe thead th {\n",
       "        text-align: right;\n",
       "    }\n",
       "</style>\n",
       "<table border=\"1\" class=\"dataframe\">\n",
       "  <thead>\n",
       "    <tr style=\"text-align: right;\">\n",
       "      <th></th>\n",
       "      <th>Unnamed: 0</th>\n",
       "      <th>audienceRating</th>\n",
       "      <th>Genre</th>\n",
       "      <th>criticRating</th>\n",
       "      <th>timeMin</th>\n",
       "      <th>grossMillions</th>\n",
       "      <th>Movie</th>\n",
       "      <th>Vote</th>\n",
       "      <th>Year</th>\n",
       "    </tr>\n",
       "  </thead>\n",
       "  <tbody>\n",
       "    <tr>\n",
       "      <th>0</th>\n",
       "      <td>0</td>\n",
       "      <td>8.5</td>\n",
       "      <td>Action</td>\n",
       "      <td>67</td>\n",
       "      <td>155</td>\n",
       "      <td>187.71</td>\n",
       "      <td>Gladiator</td>\n",
       "      <td>1096457</td>\n",
       "      <td>2000</td>\n",
       "    </tr>\n",
       "    <tr>\n",
       "      <th>1</th>\n",
       "      <td>1</td>\n",
       "      <td>8.5</td>\n",
       "      <td>Mystery</td>\n",
       "      <td>80</td>\n",
       "      <td>113</td>\n",
       "      <td>25.54</td>\n",
       "      <td>Memento</td>\n",
       "      <td>942923</td>\n",
       "      <td>2000</td>\n",
       "    </tr>\n",
       "    <tr>\n",
       "      <th>2</th>\n",
       "      <td>2</td>\n",
       "      <td>8.3</td>\n",
       "      <td>Comedy</td>\n",
       "      <td>55</td>\n",
       "      <td>104</td>\n",
       "      <td>30.33</td>\n",
       "      <td>Snatch - Tu braques ou tu raques</td>\n",
       "      <td>663244</td>\n",
       "      <td>2000</td>\n",
       "    </tr>\n",
       "    <tr>\n",
       "      <th>3</th>\n",
       "      <td>3</td>\n",
       "      <td>8.3</td>\n",
       "      <td>Drama</td>\n",
       "      <td>68</td>\n",
       "      <td>102</td>\n",
       "      <td>3.64</td>\n",
       "      <td>Requiem for a Dream</td>\n",
       "      <td>640047</td>\n",
       "      <td>2000</td>\n",
       "    </tr>\n",
       "    <tr>\n",
       "      <th>4</th>\n",
       "      <td>4</td>\n",
       "      <td>7.4</td>\n",
       "      <td>Action</td>\n",
       "      <td>64</td>\n",
       "      <td>104</td>\n",
       "      <td>157.30</td>\n",
       "      <td>X-Men</td>\n",
       "      <td>498388</td>\n",
       "      <td>2000</td>\n",
       "    </tr>\n",
       "    <tr>\n",
       "      <th>5</th>\n",
       "      <td>5</td>\n",
       "      <td>7.8</td>\n",
       "      <td>Adventure</td>\n",
       "      <td>73</td>\n",
       "      <td>143</td>\n",
       "      <td>233.63</td>\n",
       "      <td>Seul au monde</td>\n",
       "      <td>435798</td>\n",
       "      <td>2000</td>\n",
       "    </tr>\n",
       "    <tr>\n",
       "      <th>6</th>\n",
       "      <td>6</td>\n",
       "      <td>7.6</td>\n",
       "      <td>Crime</td>\n",
       "      <td>64</td>\n",
       "      <td>102</td>\n",
       "      <td>15.07</td>\n",
       "      <td>American Psycho</td>\n",
       "      <td>396271</td>\n",
       "      <td>2000</td>\n",
       "    </tr>\n",
       "    <tr>\n",
       "      <th>7</th>\n",
       "      <td>7</td>\n",
       "      <td>7.2</td>\n",
       "      <td>Drama</td>\n",
       "      <td>62</td>\n",
       "      <td>106</td>\n",
       "      <td>95.01</td>\n",
       "      <td>Incassable</td>\n",
       "      <td>284747</td>\n",
       "      <td>2000</td>\n",
       "    </tr>\n",
       "    <tr>\n",
       "      <th>8</th>\n",
       "      <td>8</td>\n",
       "      <td>7.0</td>\n",
       "      <td>Comedy</td>\n",
       "      <td>73</td>\n",
       "      <td>108</td>\n",
       "      <td>166.24</td>\n",
       "      <td>Mon beau-père et moi</td>\n",
       "      <td>277723</td>\n",
       "      <td>2000</td>\n",
       "    </tr>\n",
       "    <tr>\n",
       "      <th>9</th>\n",
       "      <td>9</td>\n",
       "      <td>6.1</td>\n",
       "      <td>Action</td>\n",
       "      <td>59</td>\n",
       "      <td>123</td>\n",
       "      <td>215.41</td>\n",
       "      <td>M-I:2 Mission: Impossible 2</td>\n",
       "      <td>263188</td>\n",
       "      <td>2000</td>\n",
       "    </tr>\n",
       "  </tbody>\n",
       "</table>\n",
       "</div>"
      ],
      "text/plain": [
       "   Unnamed: 0  audienceRating      Genre  criticRating  timeMin  \\\n",
       "0           0             8.5     Action            67      155   \n",
       "1           1             8.5    Mystery            80      113   \n",
       "2           2             8.3     Comedy            55      104   \n",
       "3           3             8.3      Drama            68      102   \n",
       "4           4             7.4     Action            64      104   \n",
       "5           5             7.8  Adventure            73      143   \n",
       "6           6             7.6      Crime            64      102   \n",
       "7           7             7.2      Drama            62      106   \n",
       "8           8             7.0     Comedy            73      108   \n",
       "9           9             6.1     Action            59      123   \n",
       "\n",
       "   grossMillions                             Movie     Vote  Year  \n",
       "0         187.71                         Gladiator  1096457  2000  \n",
       "1          25.54                           Memento   942923  2000  \n",
       "2          30.33  Snatch - Tu braques ou tu raques   663244  2000  \n",
       "3           3.64               Requiem for a Dream   640047  2000  \n",
       "4         157.30                             X-Men   498388  2000  \n",
       "5         233.63                     Seul au monde   435798  2000  \n",
       "6          15.07                   American Psycho   396271  2000  \n",
       "7          95.01                        Incassable   284747  2000  \n",
       "8         166.24              Mon beau-père et moi   277723  2000  \n",
       "9         215.41       M-I:2 Mission: Impossible 2   263188  2000  "
      ]
     },
     "execution_count": 6,
     "metadata": {},
     "output_type": "execute_result"
    }
   ],
   "source": [
    "dataMoviesFull.head(10)"
   ]
  },
  {
   "cell_type": "code",
   "execution_count": 7,
   "metadata": {},
   "outputs": [
    {
     "data": {
      "text/plain": [
       "936.66"
      ]
     },
     "execution_count": 7,
     "metadata": {},
     "output_type": "execute_result"
    }
   ],
   "source": [
    "max(dataMoviesFull.grossMillions) #Most profitable movie in 17 years got 936.66 Million"
   ]
  },
  {
   "cell_type": "code",
   "execution_count": 8,
   "metadata": {},
   "outputs": [
    {
     "data": {
      "text/plain": [
       "100"
      ]
     },
     "execution_count": 8,
     "metadata": {},
     "output_type": "execute_result"
    }
   ],
   "source": [
    "max(dataMoviesFull.criticRating) #Maximum rating"
   ]
  },
  {
   "cell_type": "code",
   "execution_count": 9,
   "metadata": {},
   "outputs": [
    {
     "data": {
      "text/html": [
       "<div>\n",
       "<style scoped>\n",
       "    .dataframe tbody tr th:only-of-type {\n",
       "        vertical-align: middle;\n",
       "    }\n",
       "\n",
       "    .dataframe tbody tr th {\n",
       "        vertical-align: top;\n",
       "    }\n",
       "\n",
       "    .dataframe thead th {\n",
       "        text-align: right;\n",
       "    }\n",
       "</style>\n",
       "<table border=\"1\" class=\"dataframe\">\n",
       "  <thead>\n",
       "    <tr style=\"text-align: right;\">\n",
       "      <th></th>\n",
       "      <th>Unnamed: 0</th>\n",
       "      <th>audienceRating</th>\n",
       "      <th>Genre</th>\n",
       "      <th>criticRating</th>\n",
       "      <th>timeMin</th>\n",
       "      <th>grossMillions</th>\n",
       "      <th>Movie</th>\n",
       "      <th>Vote</th>\n",
       "      <th>Year</th>\n",
       "    </tr>\n",
       "  </thead>\n",
       "  <tbody>\n",
       "    <tr>\n",
       "      <th>3900</th>\n",
       "      <td>3900</td>\n",
       "      <td>8.1</td>\n",
       "      <td>Action</td>\n",
       "      <td>81</td>\n",
       "      <td>136</td>\n",
       "      <td>936.66</td>\n",
       "      <td>Star Wars: Episode VII - Le réveil de la Force</td>\n",
       "      <td>711233</td>\n",
       "      <td>2015</td>\n",
       "    </tr>\n",
       "  </tbody>\n",
       "</table>\n",
       "</div>"
      ],
      "text/plain": [
       "      Unnamed: 0  audienceRating   Genre  criticRating  timeMin  \\\n",
       "3900        3900             8.1  Action            81      136   \n",
       "\n",
       "      grossMillions                                           Movie    Vote  \\\n",
       "3900         936.66  Star Wars: Episode VII - Le réveil de la Force  711233   \n",
       "\n",
       "      Year  \n",
       "3900  2015  "
      ]
     },
     "execution_count": 9,
     "metadata": {},
     "output_type": "execute_result"
    }
   ],
   "source": [
    "dataMoviesFull[dataMoviesFull['grossMillions']==936.66]"
   ]
  },
  {
   "cell_type": "code",
   "execution_count": 10,
   "metadata": {},
   "outputs": [
    {
     "data": {
      "text/html": [
       "<div>\n",
       "<style scoped>\n",
       "    .dataframe tbody tr th:only-of-type {\n",
       "        vertical-align: middle;\n",
       "    }\n",
       "\n",
       "    .dataframe tbody tr th {\n",
       "        vertical-align: top;\n",
       "    }\n",
       "\n",
       "    .dataframe thead th {\n",
       "        text-align: right;\n",
       "    }\n",
       "</style>\n",
       "<table border=\"1\" class=\"dataframe\">\n",
       "  <thead>\n",
       "    <tr style=\"text-align: right;\">\n",
       "      <th></th>\n",
       "      <th>Unnamed: 0</th>\n",
       "      <th>audienceRating</th>\n",
       "      <th>Genre</th>\n",
       "      <th>criticRating</th>\n",
       "      <th>timeMin</th>\n",
       "      <th>grossMillions</th>\n",
       "      <th>Movie</th>\n",
       "      <th>Vote</th>\n",
       "      <th>Year</th>\n",
       "    </tr>\n",
       "  </thead>\n",
       "  <tbody>\n",
       "    <tr>\n",
       "      <th>3652</th>\n",
       "      <td>3652</td>\n",
       "      <td>7.9</td>\n",
       "      <td>Drama</td>\n",
       "      <td>100</td>\n",
       "      <td>165</td>\n",
       "      <td>25.38</td>\n",
       "      <td>Boyhood</td>\n",
       "      <td>296556</td>\n",
       "      <td>2014</td>\n",
       "    </tr>\n",
       "  </tbody>\n",
       "</table>\n",
       "</div>"
      ],
      "text/plain": [
       "      Unnamed: 0  audienceRating  Genre  criticRating  timeMin  grossMillions  \\\n",
       "3652        3652             7.9  Drama           100      165          25.38   \n",
       "\n",
       "        Movie    Vote  Year  \n",
       "3652  Boyhood  296556  2014  "
      ]
     },
     "execution_count": 10,
     "metadata": {},
     "output_type": "execute_result"
    }
   ],
   "source": [
    "dataMoviesFull[dataMoviesFull['criticRating']==100]"
   ]
  },
  {
   "cell_type": "code",
   "execution_count": 11,
   "metadata": {},
   "outputs": [
    {
     "data": {
      "text/html": [
       "<div>\n",
       "<style scoped>\n",
       "    .dataframe tbody tr th:only-of-type {\n",
       "        vertical-align: middle;\n",
       "    }\n",
       "\n",
       "    .dataframe tbody tr th {\n",
       "        vertical-align: top;\n",
       "    }\n",
       "\n",
       "    .dataframe thead th {\n",
       "        text-align: right;\n",
       "    }\n",
       "</style>\n",
       "<table border=\"1\" class=\"dataframe\">\n",
       "  <thead>\n",
       "    <tr style=\"text-align: right;\">\n",
       "      <th></th>\n",
       "      <th>Unnamed: 0</th>\n",
       "      <th>audienceRating</th>\n",
       "      <th>Genre</th>\n",
       "      <th>criticRating</th>\n",
       "      <th>timeMin</th>\n",
       "      <th>grossMillions</th>\n",
       "      <th>Movie</th>\n",
       "      <th>Vote</th>\n",
       "      <th>Year</th>\n",
       "    </tr>\n",
       "  </thead>\n",
       "  <tbody>\n",
       "    <tr>\n",
       "      <th>30</th>\n",
       "      <td>30</td>\n",
       "      <td>7.7</td>\n",
       "      <td>Adventure</td>\n",
       "      <td>81</td>\n",
       "      <td>114</td>\n",
       "      <td>0.0</td>\n",
       "      <td>Battle Royale</td>\n",
       "      <td>149417</td>\n",
       "      <td>2000</td>\n",
       "    </tr>\n",
       "    <tr>\n",
       "      <th>86</th>\n",
       "      <td>86</td>\n",
       "      <td>6.8</td>\n",
       "      <td>Drama</td>\n",
       "      <td>70</td>\n",
       "      <td>108</td>\n",
       "      <td>0.0</td>\n",
       "      <td>Ginger Snaps</td>\n",
       "      <td>35800</td>\n",
       "      <td>2000</td>\n",
       "    </tr>\n",
       "    <tr>\n",
       "      <th>110</th>\n",
       "      <td>110</td>\n",
       "      <td>7.9</td>\n",
       "      <td>Action</td>\n",
       "      <td>58</td>\n",
       "      <td>110</td>\n",
       "      <td>0.0</td>\n",
       "      <td>JSA - Joint Security Area</td>\n",
       "      <td>21140</td>\n",
       "      <td>2000</td>\n",
       "    </tr>\n",
       "    <tr>\n",
       "      <th>117</th>\n",
       "      <td>117</td>\n",
       "      <td>7.8</td>\n",
       "      <td>Adventure</td>\n",
       "      <td>71</td>\n",
       "      <td>99</td>\n",
       "      <td>0.0</td>\n",
       "      <td>Julie en juillet</td>\n",
       "      <td>18062</td>\n",
       "      <td>2000</td>\n",
       "    </tr>\n",
       "    <tr>\n",
       "      <th>126</th>\n",
       "      <td>126</td>\n",
       "      <td>7.7</td>\n",
       "      <td>Action</td>\n",
       "      <td>47</td>\n",
       "      <td>109</td>\n",
       "      <td>0.0</td>\n",
       "      <td>Blinkende lygter</td>\n",
       "      <td>16237</td>\n",
       "      <td>2000</td>\n",
       "    </tr>\n",
       "    <tr>\n",
       "      <th>134</th>\n",
       "      <td>134</td>\n",
       "      <td>7.7</td>\n",
       "      <td>Comedy</td>\n",
       "      <td>76</td>\n",
       "      <td>98</td>\n",
       "      <td>0.0</td>\n",
       "      <td>Chansons du deuxième étage</td>\n",
       "      <td>14249</td>\n",
       "      <td>2000</td>\n",
       "    </tr>\n",
       "    <tr>\n",
       "      <th>151</th>\n",
       "      <td>151</td>\n",
       "      <td>6.7</td>\n",
       "      <td>Animation</td>\n",
       "      <td>44</td>\n",
       "      <td>48</td>\n",
       "      <td>0.0</td>\n",
       "      <td>Blood: The Last Vampire</td>\n",
       "      <td>10765</td>\n",
       "      <td>2000</td>\n",
       "    </tr>\n",
       "    <tr>\n",
       "      <th>186</th>\n",
       "      <td>186</td>\n",
       "      <td>6.2</td>\n",
       "      <td>Drama</td>\n",
       "      <td>62</td>\n",
       "      <td>90</td>\n",
       "      <td>0.0</td>\n",
       "      <td>Uzumaki</td>\n",
       "      <td>6249</td>\n",
       "      <td>2000</td>\n",
       "    </tr>\n",
       "    <tr>\n",
       "      <th>204</th>\n",
       "      <td>204</td>\n",
       "      <td>7.3</td>\n",
       "      <td>Drama</td>\n",
       "      <td>70</td>\n",
       "      <td>88</td>\n",
       "      <td>0.0</td>\n",
       "      <td>El bola</td>\n",
       "      <td>4999</td>\n",
       "      <td>2000</td>\n",
       "    </tr>\n",
       "    <tr>\n",
       "      <th>215</th>\n",
       "      <td>215</td>\n",
       "      <td>6.5</td>\n",
       "      <td>Comedy</td>\n",
       "      <td>23</td>\n",
       "      <td>103</td>\n",
       "      <td>0.0</td>\n",
       "      <td>Gangsters, sex &amp; karaoké</td>\n",
       "      <td>4582</td>\n",
       "      <td>2000</td>\n",
       "    </tr>\n",
       "    <tr>\n",
       "      <th>217</th>\n",
       "      <td>217</td>\n",
       "      <td>6.3</td>\n",
       "      <td>Action</td>\n",
       "      <td>41</td>\n",
       "      <td>109</td>\n",
       "      <td>0.0</td>\n",
       "      <td>Citizen Toxie: The Toxic Avenger IV</td>\n",
       "      <td>4431</td>\n",
       "      <td>2000</td>\n",
       "    </tr>\n",
       "    <tr>\n",
       "      <th>246</th>\n",
       "      <td>246</td>\n",
       "      <td>6.8</td>\n",
       "      <td>Adventure</td>\n",
       "      <td>50</td>\n",
       "      <td>98</td>\n",
       "      <td>0.0</td>\n",
       "      <td>Escaflowne</td>\n",
       "      <td>3008</td>\n",
       "      <td>2000</td>\n",
       "    </tr>\n",
       "    <tr>\n",
       "      <th>343</th>\n",
       "      <td>343</td>\n",
       "      <td>7.1</td>\n",
       "      <td>Action</td>\n",
       "      <td>55</td>\n",
       "      <td>129</td>\n",
       "      <td>0.0</td>\n",
       "      <td>Ichi the Killer</td>\n",
       "      <td>45575</td>\n",
       "      <td>2001</td>\n",
       "    </tr>\n",
       "    <tr>\n",
       "      <th>443</th>\n",
       "      <td>443</td>\n",
       "      <td>6.8</td>\n",
       "      <td>Drama</td>\n",
       "      <td>49</td>\n",
       "      <td>100</td>\n",
       "      <td>0.0</td>\n",
       "      <td>Nabbeun namja</td>\n",
       "      <td>7980</td>\n",
       "      <td>2001</td>\n",
       "    </tr>\n",
       "    <tr>\n",
       "      <th>454</th>\n",
       "      <td>454</td>\n",
       "      <td>7.2</td>\n",
       "      <td>Comedy</td>\n",
       "      <td>60</td>\n",
       "      <td>113</td>\n",
       "      <td>0.0</td>\n",
       "      <td>La mélodie du malheur</td>\n",
       "      <td>7085</td>\n",
       "      <td>2001</td>\n",
       "    </tr>\n",
       "    <tr>\n",
       "      <th>501</th>\n",
       "      <td>501</td>\n",
       "      <td>8.0</td>\n",
       "      <td>Documentary</td>\n",
       "      <td>79</td>\n",
       "      <td>96</td>\n",
       "      <td>0.0</td>\n",
       "      <td>War Photographer</td>\n",
       "      <td>3532</td>\n",
       "      <td>2001</td>\n",
       "    </tr>\n",
       "    <tr>\n",
       "      <th>654</th>\n",
       "      <td>654</td>\n",
       "      <td>8.1</td>\n",
       "      <td>Drama</td>\n",
       "      <td>82</td>\n",
       "      <td>129</td>\n",
       "      <td>0.0</td>\n",
       "      <td>Le samouraï du crépuscule</td>\n",
       "      <td>19316</td>\n",
       "      <td>2002</td>\n",
       "    </tr>\n",
       "    <tr>\n",
       "      <th>676</th>\n",
       "      <td>676</td>\n",
       "      <td>7.7</td>\n",
       "      <td>Drama</td>\n",
       "      <td>71</td>\n",
       "      <td>114</td>\n",
       "      <td>0.0</td>\n",
       "      <td>Dolls</td>\n",
       "      <td>14163</td>\n",
       "      <td>2002</td>\n",
       "    </tr>\n",
       "    <tr>\n",
       "      <th>733</th>\n",
       "      <td>733</td>\n",
       "      <td>8.0</td>\n",
       "      <td>Drama</td>\n",
       "      <td>79</td>\n",
       "      <td>133</td>\n",
       "      <td>0.0</td>\n",
       "      <td>Oasis</td>\n",
       "      <td>6025</td>\n",
       "      <td>2002</td>\n",
       "    </tr>\n",
       "    <tr>\n",
       "      <th>735</th>\n",
       "      <td>735</td>\n",
       "      <td>7.2</td>\n",
       "      <td>Drama</td>\n",
       "      <td>70</td>\n",
       "      <td>65</td>\n",
       "      <td>0.0</td>\n",
       "      <td>Yossi &amp; Jagger</td>\n",
       "      <td>5996</td>\n",
       "      <td>2002</td>\n",
       "    </tr>\n",
       "    <tr>\n",
       "      <th>746</th>\n",
       "      <td>746</td>\n",
       "      <td>7.0</td>\n",
       "      <td>Drama</td>\n",
       "      <td>61</td>\n",
       "      <td>134</td>\n",
       "      <td>0.0</td>\n",
       "      <td>11'09''01 - September 11</td>\n",
       "      <td>5055</td>\n",
       "      <td>2002</td>\n",
       "    </tr>\n",
       "    <tr>\n",
       "      <th>747</th>\n",
       "      <td>747</td>\n",
       "      <td>5.1</td>\n",
       "      <td>Comedy</td>\n",
       "      <td>44</td>\n",
       "      <td>92</td>\n",
       "      <td>0.0</td>\n",
       "      <td>Slap Her, She's French!</td>\n",
       "      <td>5009</td>\n",
       "      <td>2002</td>\n",
       "    </tr>\n",
       "    <tr>\n",
       "      <th>750</th>\n",
       "      <td>750</td>\n",
       "      <td>6.6</td>\n",
       "      <td>Comedy</td>\n",
       "      <td>47</td>\n",
       "      <td>114</td>\n",
       "      <td>0.0</td>\n",
       "      <td>El otro lado de la cama</td>\n",
       "      <td>4767</td>\n",
       "      <td>2002</td>\n",
       "    </tr>\n",
       "    <tr>\n",
       "      <th>755</th>\n",
       "      <td>755</td>\n",
       "      <td>8.0</td>\n",
       "      <td>Drama</td>\n",
       "      <td>50</td>\n",
       "      <td>120</td>\n",
       "      <td>0.0</td>\n",
       "      <td>Mr. and Mrs. Iyer</td>\n",
       "      <td>4279</td>\n",
       "      <td>2002</td>\n",
       "    </tr>\n",
       "    <tr>\n",
       "      <th>767</th>\n",
       "      <td>767</td>\n",
       "      <td>7.4</td>\n",
       "      <td>Drama</td>\n",
       "      <td>75</td>\n",
       "      <td>88</td>\n",
       "      <td>0.0</td>\n",
       "      <td>In This World</td>\n",
       "      <td>3849</td>\n",
       "      <td>2002</td>\n",
       "    </tr>\n",
       "    <tr>\n",
       "      <th>769</th>\n",
       "      <td>769</td>\n",
       "      <td>9.0</td>\n",
       "      <td>Documentary</td>\n",
       "      <td>80</td>\n",
       "      <td>235</td>\n",
       "      <td>0.0</td>\n",
       "      <td>The Century of the Self</td>\n",
       "      <td>3680</td>\n",
       "      <td>2002</td>\n",
       "    </tr>\n",
       "    <tr>\n",
       "      <th>770</th>\n",
       "      <td>770</td>\n",
       "      <td>6.4</td>\n",
       "      <td>Action</td>\n",
       "      <td>51</td>\n",
       "      <td>124</td>\n",
       "      <td>0.0</td>\n",
       "      <td>800 balles</td>\n",
       "      <td>3666</td>\n",
       "      <td>2002</td>\n",
       "    </tr>\n",
       "    <tr>\n",
       "      <th>772</th>\n",
       "      <td>772</td>\n",
       "      <td>6.3</td>\n",
       "      <td>Action</td>\n",
       "      <td>36</td>\n",
       "      <td>95</td>\n",
       "      <td>0.0</td>\n",
       "      <td>Shottas</td>\n",
       "      <td>3591</td>\n",
       "      <td>2002</td>\n",
       "    </tr>\n",
       "    <tr>\n",
       "      <th>863</th>\n",
       "      <td>863</td>\n",
       "      <td>3.6</td>\n",
       "      <td>Drama</td>\n",
       "      <td>9</td>\n",
       "      <td>99</td>\n",
       "      <td>0.0</td>\n",
       "      <td>The Room</td>\n",
       "      <td>47783</td>\n",
       "      <td>2003</td>\n",
       "    </tr>\n",
       "    <tr>\n",
       "      <th>864</th>\n",
       "      <td>864</td>\n",
       "      <td>7.2</td>\n",
       "      <td>Drama</td>\n",
       "      <td>65</td>\n",
       "      <td>115</td>\n",
       "      <td>0.0</td>\n",
       "      <td>2 soeurs</td>\n",
       "      <td>47095</td>\n",
       "      <td>2003</td>\n",
       "    </tr>\n",
       "    <tr>\n",
       "      <th>...</th>\n",
       "      <td>...</td>\n",
       "      <td>...</td>\n",
       "      <td>...</td>\n",
       "      <td>...</td>\n",
       "      <td>...</td>\n",
       "      <td>...</td>\n",
       "      <td>...</td>\n",
       "      <td>...</td>\n",
       "      <td>...</td>\n",
       "    </tr>\n",
       "    <tr>\n",
       "      <th>4521</th>\n",
       "      <td>4521</td>\n",
       "      <td>5.1</td>\n",
       "      <td>Comedy</td>\n",
       "      <td>40</td>\n",
       "      <td>130</td>\n",
       "      <td>0.0</td>\n",
       "      <td>Sandy Wexler</td>\n",
       "      <td>9073</td>\n",
       "      <td>2017</td>\n",
       "    </tr>\n",
       "    <tr>\n",
       "      <th>4523</th>\n",
       "      <td>4523</td>\n",
       "      <td>5.2</td>\n",
       "      <td>Action</td>\n",
       "      <td>28</td>\n",
       "      <td>94</td>\n",
       "      <td>0.0</td>\n",
       "      <td>L.A. Rush</td>\n",
       "      <td>8934</td>\n",
       "      <td>2017</td>\n",
       "    </tr>\n",
       "    <tr>\n",
       "      <th>4527</th>\n",
       "      <td>4527</td>\n",
       "      <td>7.5</td>\n",
       "      <td>Drama</td>\n",
       "      <td>85</td>\n",
       "      <td>134</td>\n",
       "      <td>0.0</td>\n",
       "      <td>Mudbound</td>\n",
       "      <td>8468</td>\n",
       "      <td>2017</td>\n",
       "    </tr>\n",
       "    <tr>\n",
       "      <th>4529</th>\n",
       "      <td>4529</td>\n",
       "      <td>6.2</td>\n",
       "      <td>Drama</td>\n",
       "      <td>48</td>\n",
       "      <td>111</td>\n",
       "      <td>0.0</td>\n",
       "      <td>Rememory</td>\n",
       "      <td>7810</td>\n",
       "      <td>2017</td>\n",
       "    </tr>\n",
       "    <tr>\n",
       "      <th>4531</th>\n",
       "      <td>4531</td>\n",
       "      <td>5.0</td>\n",
       "      <td>Horror</td>\n",
       "      <td>40</td>\n",
       "      <td>90</td>\n",
       "      <td>0.0</td>\n",
       "      <td>Leatherface</td>\n",
       "      <td>7592</td>\n",
       "      <td>2017</td>\n",
       "    </tr>\n",
       "    <tr>\n",
       "      <th>4534</th>\n",
       "      <td>4534</td>\n",
       "      <td>6.2</td>\n",
       "      <td>Action</td>\n",
       "      <td>36</td>\n",
       "      <td>94</td>\n",
       "      <td>0.0</td>\n",
       "      <td>6 Days</td>\n",
       "      <td>7339</td>\n",
       "      <td>2017</td>\n",
       "    </tr>\n",
       "    <tr>\n",
       "      <th>4540</th>\n",
       "      <td>4540</td>\n",
       "      <td>6.1</td>\n",
       "      <td>Thriller</td>\n",
       "      <td>43</td>\n",
       "      <td>93</td>\n",
       "      <td>0.0</td>\n",
       "      <td>Black Butterfly</td>\n",
       "      <td>6812</td>\n",
       "      <td>2017</td>\n",
       "    </tr>\n",
       "    <tr>\n",
       "      <th>4543</th>\n",
       "      <td>4543</td>\n",
       "      <td>4.9</td>\n",
       "      <td>Horror</td>\n",
       "      <td>42</td>\n",
       "      <td>85</td>\n",
       "      <td>0.0</td>\n",
       "      <td>Amityville: The Awakening</td>\n",
       "      <td>6163</td>\n",
       "      <td>2017</td>\n",
       "    </tr>\n",
       "    <tr>\n",
       "      <th>4544</th>\n",
       "      <td>4544</td>\n",
       "      <td>5.2</td>\n",
       "      <td>Drama</td>\n",
       "      <td>42</td>\n",
       "      <td>94</td>\n",
       "      <td>0.0</td>\n",
       "      <td>Voice from the Stone</td>\n",
       "      <td>5976</td>\n",
       "      <td>2017</td>\n",
       "    </tr>\n",
       "    <tr>\n",
       "      <th>4545</th>\n",
       "      <td>4545</td>\n",
       "      <td>7.9</td>\n",
       "      <td>Drama</td>\n",
       "      <td>90</td>\n",
       "      <td>127</td>\n",
       "      <td>0.0</td>\n",
       "      <td>Faute d'amour</td>\n",
       "      <td>5917</td>\n",
       "      <td>2017</td>\n",
       "    </tr>\n",
       "    <tr>\n",
       "      <th>4547</th>\n",
       "      <td>4547</td>\n",
       "      <td>7.2</td>\n",
       "      <td>Documentary</td>\n",
       "      <td>63</td>\n",
       "      <td>100</td>\n",
       "      <td>0.0</td>\n",
       "      <td>Gaga: Five Foot Two</td>\n",
       "      <td>5821</td>\n",
       "      <td>2017</td>\n",
       "    </tr>\n",
       "    <tr>\n",
       "      <th>4551</th>\n",
       "      <td>4551</td>\n",
       "      <td>8.2</td>\n",
       "      <td>Animation</td>\n",
       "      <td>90</td>\n",
       "      <td>103</td>\n",
       "      <td>0.0</td>\n",
       "      <td>Paddington 2</td>\n",
       "      <td>5480</td>\n",
       "      <td>2017</td>\n",
       "    </tr>\n",
       "    <tr>\n",
       "      <th>4552</th>\n",
       "      <td>4552</td>\n",
       "      <td>5.9</td>\n",
       "      <td>Comedy</td>\n",
       "      <td>48</td>\n",
       "      <td>101</td>\n",
       "      <td>0.0</td>\n",
       "      <td>Goon: Last of the Enforcers</td>\n",
       "      <td>5218</td>\n",
       "      <td>2017</td>\n",
       "    </tr>\n",
       "    <tr>\n",
       "      <th>4555</th>\n",
       "      <td>4555</td>\n",
       "      <td>5.0</td>\n",
       "      <td>Action</td>\n",
       "      <td>31</td>\n",
       "      <td>91</td>\n",
       "      <td>0.0</td>\n",
       "      <td>Kill Switch</td>\n",
       "      <td>4991</td>\n",
       "      <td>2017</td>\n",
       "    </tr>\n",
       "    <tr>\n",
       "      <th>4556</th>\n",
       "      <td>4556</td>\n",
       "      <td>7.2</td>\n",
       "      <td>Biography</td>\n",
       "      <td>72</td>\n",
       "      <td>136</td>\n",
       "      <td>0.0</td>\n",
       "      <td>First They Killed My Father</td>\n",
       "      <td>4841</td>\n",
       "      <td>2017</td>\n",
       "    </tr>\n",
       "    <tr>\n",
       "      <th>4558</th>\n",
       "      <td>4558</td>\n",
       "      <td>6.3</td>\n",
       "      <td>Comedy</td>\n",
       "      <td>78</td>\n",
       "      <td>88</td>\n",
       "      <td>0.0</td>\n",
       "      <td>Win It All</td>\n",
       "      <td>4709</td>\n",
       "      <td>2017</td>\n",
       "    </tr>\n",
       "    <tr>\n",
       "      <th>4559</th>\n",
       "      <td>4559</td>\n",
       "      <td>4.7</td>\n",
       "      <td>Comedy</td>\n",
       "      <td>15</td>\n",
       "      <td>88</td>\n",
       "      <td>0.0</td>\n",
       "      <td>The Layover</td>\n",
       "      <td>4638</td>\n",
       "      <td>2017</td>\n",
       "    </tr>\n",
       "    <tr>\n",
       "      <th>4565</th>\n",
       "      <td>4565</td>\n",
       "      <td>7.0</td>\n",
       "      <td>Drama</td>\n",
       "      <td>69</td>\n",
       "      <td>103</td>\n",
       "      <td>0.0</td>\n",
       "      <td>Nos âmes la nuit</td>\n",
       "      <td>4215</td>\n",
       "      <td>2017</td>\n",
       "    </tr>\n",
       "    <tr>\n",
       "      <th>4568</th>\n",
       "      <td>4568</td>\n",
       "      <td>8.0</td>\n",
       "      <td>Drama</td>\n",
       "      <td>71</td>\n",
       "      <td>116</td>\n",
       "      <td>0.0</td>\n",
       "      <td>Corps et âme</td>\n",
       "      <td>4121</td>\n",
       "      <td>2017</td>\n",
       "    </tr>\n",
       "    <tr>\n",
       "      <th>4569</th>\n",
       "      <td>4569</td>\n",
       "      <td>4.9</td>\n",
       "      <td>Drama</td>\n",
       "      <td>56</td>\n",
       "      <td>92</td>\n",
       "      <td>0.0</td>\n",
       "      <td>Bokeh</td>\n",
       "      <td>4053</td>\n",
       "      <td>2017</td>\n",
       "    </tr>\n",
       "    <tr>\n",
       "      <th>4571</th>\n",
       "      <td>4571</td>\n",
       "      <td>5.3</td>\n",
       "      <td>Thriller</td>\n",
       "      <td>49</td>\n",
       "      <td>91</td>\n",
       "      <td>0.0</td>\n",
       "      <td>Drone</td>\n",
       "      <td>4036</td>\n",
       "      <td>2017</td>\n",
       "    </tr>\n",
       "    <tr>\n",
       "      <th>4572</th>\n",
       "      <td>4572</td>\n",
       "      <td>4.9</td>\n",
       "      <td>Action</td>\n",
       "      <td>39</td>\n",
       "      <td>97</td>\n",
       "      <td>0.0</td>\n",
       "      <td>First Kill</td>\n",
       "      <td>4013</td>\n",
       "      <td>2017</td>\n",
       "    </tr>\n",
       "    <tr>\n",
       "      <th>4573</th>\n",
       "      <td>4573</td>\n",
       "      <td>7.6</td>\n",
       "      <td>Biography</td>\n",
       "      <td>88</td>\n",
       "      <td>106</td>\n",
       "      <td>0.0</td>\n",
       "      <td>The Death of Stalin</td>\n",
       "      <td>3977</td>\n",
       "      <td>2017</td>\n",
       "    </tr>\n",
       "    <tr>\n",
       "      <th>4574</th>\n",
       "      <td>4574</td>\n",
       "      <td>5.1</td>\n",
       "      <td>Action</td>\n",
       "      <td>44</td>\n",
       "      <td>94</td>\n",
       "      <td>0.0</td>\n",
       "      <td>Bushwick</td>\n",
       "      <td>3952</td>\n",
       "      <td>2017</td>\n",
       "    </tr>\n",
       "    <tr>\n",
       "      <th>4575</th>\n",
       "      <td>4575</td>\n",
       "      <td>5.9</td>\n",
       "      <td>Crime</td>\n",
       "      <td>60</td>\n",
       "      <td>90</td>\n",
       "      <td>0.0</td>\n",
       "      <td>Small Crimes</td>\n",
       "      <td>3869</td>\n",
       "      <td>2017</td>\n",
       "    </tr>\n",
       "    <tr>\n",
       "      <th>4576</th>\n",
       "      <td>4576</td>\n",
       "      <td>5.7</td>\n",
       "      <td>Comedy</td>\n",
       "      <td>37</td>\n",
       "      <td>86</td>\n",
       "      <td>0.0</td>\n",
       "      <td>Mon Ex Beau-père et moi</td>\n",
       "      <td>3822</td>\n",
       "      <td>2017</td>\n",
       "    </tr>\n",
       "    <tr>\n",
       "      <th>4577</th>\n",
       "      <td>4577</td>\n",
       "      <td>6.8</td>\n",
       "      <td>Comedy</td>\n",
       "      <td>73</td>\n",
       "      <td>71</td>\n",
       "      <td>0.0</td>\n",
       "      <td>The Party</td>\n",
       "      <td>3794</td>\n",
       "      <td>2017</td>\n",
       "    </tr>\n",
       "    <tr>\n",
       "      <th>4578</th>\n",
       "      <td>4578</td>\n",
       "      <td>5.5</td>\n",
       "      <td>Action</td>\n",
       "      <td>35</td>\n",
       "      <td>91</td>\n",
       "      <td>0.0</td>\n",
       "      <td>The Professional</td>\n",
       "      <td>3793</td>\n",
       "      <td>2017</td>\n",
       "    </tr>\n",
       "    <tr>\n",
       "      <th>4580</th>\n",
       "      <td>4580</td>\n",
       "      <td>6.4</td>\n",
       "      <td>Action</td>\n",
       "      <td>62</td>\n",
       "      <td>86</td>\n",
       "      <td>0.0</td>\n",
       "      <td>Mayhem</td>\n",
       "      <td>3718</td>\n",
       "      <td>2017</td>\n",
       "    </tr>\n",
       "    <tr>\n",
       "      <th>4581</th>\n",
       "      <td>4581</td>\n",
       "      <td>7.1</td>\n",
       "      <td>Biography</td>\n",
       "      <td>57</td>\n",
       "      <td>107</td>\n",
       "      <td>0.0</td>\n",
       "      <td>Borg McEnroe</td>\n",
       "      <td>3580</td>\n",
       "      <td>2017</td>\n",
       "    </tr>\n",
       "  </tbody>\n",
       "</table>\n",
       "<p>380 rows × 9 columns</p>\n",
       "</div>"
      ],
      "text/plain": [
       "      Unnamed: 0  audienceRating        Genre  criticRating  timeMin  \\\n",
       "30            30             7.7    Adventure            81      114   \n",
       "86            86             6.8        Drama            70      108   \n",
       "110          110             7.9       Action            58      110   \n",
       "117          117             7.8    Adventure            71       99   \n",
       "126          126             7.7       Action            47      109   \n",
       "134          134             7.7       Comedy            76       98   \n",
       "151          151             6.7    Animation            44       48   \n",
       "186          186             6.2        Drama            62       90   \n",
       "204          204             7.3        Drama            70       88   \n",
       "215          215             6.5       Comedy            23      103   \n",
       "217          217             6.3       Action            41      109   \n",
       "246          246             6.8    Adventure            50       98   \n",
       "343          343             7.1       Action            55      129   \n",
       "443          443             6.8        Drama            49      100   \n",
       "454          454             7.2       Comedy            60      113   \n",
       "501          501             8.0  Documentary            79       96   \n",
       "654          654             8.1        Drama            82      129   \n",
       "676          676             7.7        Drama            71      114   \n",
       "733          733             8.0        Drama            79      133   \n",
       "735          735             7.2        Drama            70       65   \n",
       "746          746             7.0        Drama            61      134   \n",
       "747          747             5.1       Comedy            44       92   \n",
       "750          750             6.6       Comedy            47      114   \n",
       "755          755             8.0        Drama            50      120   \n",
       "767          767             7.4        Drama            75       88   \n",
       "769          769             9.0  Documentary            80      235   \n",
       "770          770             6.4       Action            51      124   \n",
       "772          772             6.3       Action            36       95   \n",
       "863          863             3.6        Drama             9       99   \n",
       "864          864             7.2        Drama            65      115   \n",
       "...          ...             ...          ...           ...      ...   \n",
       "4521        4521             5.1       Comedy            40      130   \n",
       "4523        4523             5.2       Action            28       94   \n",
       "4527        4527             7.5        Drama            85      134   \n",
       "4529        4529             6.2        Drama            48      111   \n",
       "4531        4531             5.0       Horror            40       90   \n",
       "4534        4534             6.2       Action            36       94   \n",
       "4540        4540             6.1     Thriller            43       93   \n",
       "4543        4543             4.9       Horror            42       85   \n",
       "4544        4544             5.2        Drama            42       94   \n",
       "4545        4545             7.9        Drama            90      127   \n",
       "4547        4547             7.2  Documentary            63      100   \n",
       "4551        4551             8.2    Animation            90      103   \n",
       "4552        4552             5.9       Comedy            48      101   \n",
       "4555        4555             5.0       Action            31       91   \n",
       "4556        4556             7.2    Biography            72      136   \n",
       "4558        4558             6.3       Comedy            78       88   \n",
       "4559        4559             4.7       Comedy            15       88   \n",
       "4565        4565             7.0        Drama            69      103   \n",
       "4568        4568             8.0        Drama            71      116   \n",
       "4569        4569             4.9        Drama            56       92   \n",
       "4571        4571             5.3     Thriller            49       91   \n",
       "4572        4572             4.9       Action            39       97   \n",
       "4573        4573             7.6    Biography            88      106   \n",
       "4574        4574             5.1       Action            44       94   \n",
       "4575        4575             5.9        Crime            60       90   \n",
       "4576        4576             5.7       Comedy            37       86   \n",
       "4577        4577             6.8       Comedy            73       71   \n",
       "4578        4578             5.5       Action            35       91   \n",
       "4580        4580             6.4       Action            62       86   \n",
       "4581        4581             7.1    Biography            57      107   \n",
       "\n",
       "      grossMillions                                Movie    Vote  Year  \n",
       "30              0.0                        Battle Royale  149417  2000  \n",
       "86              0.0                         Ginger Snaps   35800  2000  \n",
       "110             0.0            JSA - Joint Security Area   21140  2000  \n",
       "117             0.0                     Julie en juillet   18062  2000  \n",
       "126             0.0                     Blinkende lygter   16237  2000  \n",
       "134             0.0           Chansons du deuxième étage   14249  2000  \n",
       "151             0.0              Blood: The Last Vampire   10765  2000  \n",
       "186             0.0                              Uzumaki    6249  2000  \n",
       "204             0.0                              El bola    4999  2000  \n",
       "215             0.0             Gangsters, sex & karaoké    4582  2000  \n",
       "217             0.0  Citizen Toxie: The Toxic Avenger IV    4431  2000  \n",
       "246             0.0                           Escaflowne    3008  2000  \n",
       "343             0.0                      Ichi the Killer   45575  2001  \n",
       "443             0.0                        Nabbeun namja    7980  2001  \n",
       "454             0.0                La mélodie du malheur    7085  2001  \n",
       "501             0.0                     War Photographer    3532  2001  \n",
       "654             0.0            Le samouraï du crépuscule   19316  2002  \n",
       "676             0.0                                Dolls   14163  2002  \n",
       "733             0.0                                Oasis    6025  2002  \n",
       "735             0.0                       Yossi & Jagger    5996  2002  \n",
       "746             0.0             11'09''01 - September 11    5055  2002  \n",
       "747             0.0              Slap Her, She's French!    5009  2002  \n",
       "750             0.0              El otro lado de la cama    4767  2002  \n",
       "755             0.0                    Mr. and Mrs. Iyer    4279  2002  \n",
       "767             0.0                        In This World    3849  2002  \n",
       "769             0.0              The Century of the Self    3680  2002  \n",
       "770             0.0                           800 balles    3666  2002  \n",
       "772             0.0                              Shottas    3591  2002  \n",
       "863             0.0                             The Room   47783  2003  \n",
       "864             0.0                             2 soeurs   47095  2003  \n",
       "...             ...                                  ...     ...   ...  \n",
       "4521            0.0                         Sandy Wexler    9073  2017  \n",
       "4523            0.0                            L.A. Rush    8934  2017  \n",
       "4527            0.0                             Mudbound    8468  2017  \n",
       "4529            0.0                             Rememory    7810  2017  \n",
       "4531            0.0                          Leatherface    7592  2017  \n",
       "4534            0.0                               6 Days    7339  2017  \n",
       "4540            0.0                      Black Butterfly    6812  2017  \n",
       "4543            0.0            Amityville: The Awakening    6163  2017  \n",
       "4544            0.0                 Voice from the Stone    5976  2017  \n",
       "4545            0.0                        Faute d'amour    5917  2017  \n",
       "4547            0.0                  Gaga: Five Foot Two    5821  2017  \n",
       "4551            0.0                         Paddington 2    5480  2017  \n",
       "4552            0.0          Goon: Last of the Enforcers    5218  2017  \n",
       "4555            0.0                          Kill Switch    4991  2017  \n",
       "4556            0.0          First They Killed My Father    4841  2017  \n",
       "4558            0.0                           Win It All    4709  2017  \n",
       "4559            0.0                          The Layover    4638  2017  \n",
       "4565            0.0                     Nos âmes la nuit    4215  2017  \n",
       "4568            0.0                         Corps et âme    4121  2017  \n",
       "4569            0.0                                Bokeh    4053  2017  \n",
       "4571            0.0                                Drone    4036  2017  \n",
       "4572            0.0                           First Kill    4013  2017  \n",
       "4573            0.0                  The Death of Stalin    3977  2017  \n",
       "4574            0.0                             Bushwick    3952  2017  \n",
       "4575            0.0                         Small Crimes    3869  2017  \n",
       "4576            0.0              Mon Ex Beau-père et moi    3822  2017  \n",
       "4577            0.0                            The Party    3794  2017  \n",
       "4578            0.0                     The Professional    3793  2017  \n",
       "4580            0.0                               Mayhem    3718  2017  \n",
       "4581            0.0                         Borg McEnroe    3580  2017  \n",
       "\n",
       "[380 rows x 9 columns]"
      ]
     },
     "execution_count": 11,
     "metadata": {},
     "output_type": "execute_result"
    }
   ],
   "source": [
    "dataMoviesFull[dataMoviesFull['grossMillions']==min(dataMoviesFull.grossMillions)] #Lowest earned (zero profit) films"
   ]
  },
  {
   "cell_type": "code",
   "execution_count": 25,
   "metadata": {},
   "outputs": [
    {
     "data": {
      "text/html": [
       "<div>\n",
       "<style scoped>\n",
       "    .dataframe tbody tr th:only-of-type {\n",
       "        vertical-align: middle;\n",
       "    }\n",
       "\n",
       "    .dataframe tbody tr th {\n",
       "        vertical-align: top;\n",
       "    }\n",
       "\n",
       "    .dataframe thead th {\n",
       "        text-align: right;\n",
       "    }\n",
       "</style>\n",
       "<table border=\"1\" class=\"dataframe\">\n",
       "  <thead>\n",
       "    <tr style=\"text-align: right;\">\n",
       "      <th></th>\n",
       "      <th>audienceRating</th>\n",
       "      <th>Genre</th>\n",
       "      <th>criticRating</th>\n",
       "      <th>timeMin</th>\n",
       "      <th>grossMillions</th>\n",
       "      <th>Movie</th>\n",
       "      <th>Vote</th>\n",
       "      <th>Year</th>\n",
       "    </tr>\n",
       "  </thead>\n",
       "  <tbody>\n",
       "    <tr>\n",
       "      <th>232</th>\n",
       "      <td>5.3</td>\n",
       "      <td>Crime</td>\n",
       "      <td>5</td>\n",
       "      <td>87</td>\n",
       "      <td>0.01</td>\n",
       "      <td>Vulgar</td>\n",
       "      <td>3687</td>\n",
       "      <td>2000</td>\n",
       "    </tr>\n",
       "    <tr>\n",
       "      <th>4126</th>\n",
       "      <td>2.8</td>\n",
       "      <td>Comedy</td>\n",
       "      <td>5</td>\n",
       "      <td>102</td>\n",
       "      <td>0.00</td>\n",
       "      <td>The Human Centipede III (Final Sequence)</td>\n",
       "      <td>10398</td>\n",
       "      <td>2015</td>\n",
       "    </tr>\n",
       "  </tbody>\n",
       "</table>\n",
       "</div>"
      ],
      "text/plain": [
       "      audienceRating   Genre  criticRating  timeMin  grossMillions  \\\n",
       "232              5.3   Crime             5       87           0.01   \n",
       "4126             2.8  Comedy             5      102           0.00   \n",
       "\n",
       "                                         Movie   Vote  Year  \n",
       "232                                     Vulgar   3687  2000  \n",
       "4126  The Human Centipede III (Final Sequence)  10398  2015  "
      ]
     },
     "execution_count": 25,
     "metadata": {},
     "output_type": "execute_result"
    }
   ],
   "source": [
    "dataMoviesFull[dataMoviesFull['criticRating']==min(dataMoviesFull.criticRating)] #Lowest crtic's rated films"
   ]
  },
  {
   "cell_type": "code",
   "execution_count": 26,
   "metadata": {},
   "outputs": [
    {
     "data": {
      "text/html": [
       "<div>\n",
       "<style scoped>\n",
       "    .dataframe tbody tr th:only-of-type {\n",
       "        vertical-align: middle;\n",
       "    }\n",
       "\n",
       "    .dataframe tbody tr th {\n",
       "        vertical-align: top;\n",
       "    }\n",
       "\n",
       "    .dataframe thead th {\n",
       "        text-align: right;\n",
       "    }\n",
       "</style>\n",
       "<table border=\"1\" class=\"dataframe\">\n",
       "  <thead>\n",
       "    <tr style=\"text-align: right;\">\n",
       "      <th></th>\n",
       "      <th>audienceRating</th>\n",
       "      <th>Genre</th>\n",
       "      <th>criticRating</th>\n",
       "      <th>timeMin</th>\n",
       "      <th>grossMillions</th>\n",
       "      <th>Movie</th>\n",
       "      <th>Vote</th>\n",
       "      <th>Year</th>\n",
       "    </tr>\n",
       "  </thead>\n",
       "  <tbody>\n",
       "    <tr>\n",
       "      <th>769</th>\n",
       "      <td>9.0</td>\n",
       "      <td>Documentary</td>\n",
       "      <td>80</td>\n",
       "      <td>235</td>\n",
       "      <td>0.00</td>\n",
       "      <td>The Century of the Self</td>\n",
       "      <td>3680</td>\n",
       "      <td>2002</td>\n",
       "    </tr>\n",
       "    <tr>\n",
       "      <th>2081</th>\n",
       "      <td>9.0</td>\n",
       "      <td>Action</td>\n",
       "      <td>82</td>\n",
       "      <td>152</td>\n",
       "      <td>534.86</td>\n",
       "      <td>The Dark Knight: Le chevalier noir</td>\n",
       "      <td>1865768</td>\n",
       "      <td>2008</td>\n",
       "    </tr>\n",
       "  </tbody>\n",
       "</table>\n",
       "</div>"
      ],
      "text/plain": [
       "      audienceRating        Genre  criticRating  timeMin  grossMillions  \\\n",
       "769              9.0  Documentary            80      235           0.00   \n",
       "2081             9.0       Action            82      152         534.86   \n",
       "\n",
       "                                   Movie     Vote  Year  \n",
       "769              The Century of the Self     3680  2002  \n",
       "2081  The Dark Knight: Le chevalier noir  1865768  2008  "
      ]
     },
     "execution_count": 26,
     "metadata": {},
     "output_type": "execute_result"
    }
   ],
   "source": [
    "dataMoviesFull[dataMoviesFull['audienceRating']==max(dataMoviesFull.audienceRating)] #Higest audience rated films"
   ]
  },
  {
   "cell_type": "markdown",
   "metadata": {},
   "source": [
    "# Overview of Dataset"
   ]
  },
  {
   "cell_type": "code",
   "execution_count": 12,
   "metadata": {},
   "outputs": [
    {
     "data": {
      "text/plain": [
       "Index(['Unnamed: 0', 'audienceRating', 'Genre', 'criticRating', 'timeMin',\n",
       "       'grossMillions', 'Movie', 'Vote', 'Year'],\n",
       "      dtype='object')"
      ]
     },
     "execution_count": 12,
     "metadata": {},
     "output_type": "execute_result"
    }
   ],
   "source": [
    "dataMoviesFull.columns"
   ]
  },
  {
   "cell_type": "code",
   "execution_count": 13,
   "metadata": {},
   "outputs": [
    {
     "name": "stdout",
     "output_type": "stream",
     "text": [
      "<class 'pandas.core.frame.DataFrame'>\n",
      "RangeIndex: 4583 entries, 0 to 4582\n",
      "Data columns (total 9 columns):\n",
      "Unnamed: 0        4583 non-null int64\n",
      "audienceRating    4583 non-null float64\n",
      "Genre             4583 non-null object\n",
      "criticRating      4583 non-null int64\n",
      "timeMin           4583 non-null int64\n",
      "grossMillions     4583 non-null float64\n",
      "Movie             4583 non-null object\n",
      "Vote              4583 non-null int64\n",
      "Year              4583 non-null int64\n",
      "dtypes: float64(2), int64(5), object(2)\n",
      "memory usage: 322.3+ KB\n"
     ]
    }
   ],
   "source": [
    "dataMoviesFull.info() "
   ]
  },
  {
   "cell_type": "code",
   "execution_count": 14,
   "metadata": {},
   "outputs": [
    {
     "data": {
      "text/html": [
       "<div>\n",
       "<style scoped>\n",
       "    .dataframe tbody tr th:only-of-type {\n",
       "        vertical-align: middle;\n",
       "    }\n",
       "\n",
       "    .dataframe tbody tr th {\n",
       "        vertical-align: top;\n",
       "    }\n",
       "\n",
       "    .dataframe thead th {\n",
       "        text-align: right;\n",
       "    }\n",
       "</style>\n",
       "<table border=\"1\" class=\"dataframe\">\n",
       "  <thead>\n",
       "    <tr style=\"text-align: right;\">\n",
       "      <th></th>\n",
       "      <th>Unnamed: 0</th>\n",
       "      <th>audienceRating</th>\n",
       "      <th>criticRating</th>\n",
       "      <th>timeMin</th>\n",
       "      <th>grossMillions</th>\n",
       "      <th>Vote</th>\n",
       "      <th>Year</th>\n",
       "    </tr>\n",
       "  </thead>\n",
       "  <tbody>\n",
       "    <tr>\n",
       "      <th>count</th>\n",
       "      <td>4583.000000</td>\n",
       "      <td>4583.000000</td>\n",
       "      <td>4583.000000</td>\n",
       "      <td>4583.000000</td>\n",
       "      <td>4583.000000</td>\n",
       "      <td>4.583000e+03</td>\n",
       "      <td>4583.000000</td>\n",
       "    </tr>\n",
       "    <tr>\n",
       "      <th>mean</th>\n",
       "      <td>2291.000000</td>\n",
       "      <td>6.510081</td>\n",
       "      <td>55.227144</td>\n",
       "      <td>107.127646</td>\n",
       "      <td>37.234787</td>\n",
       "      <td>8.450176e+04</td>\n",
       "      <td>2008.365263</td>\n",
       "    </tr>\n",
       "    <tr>\n",
       "      <th>std</th>\n",
       "      <td>1323.142472</td>\n",
       "      <td>0.993184</td>\n",
       "      <td>17.947463</td>\n",
       "      <td>18.810458</td>\n",
       "      <td>66.157452</td>\n",
       "      <td>1.334644e+05</td>\n",
       "      <td>5.102369</td>\n",
       "    </tr>\n",
       "    <tr>\n",
       "      <th>min</th>\n",
       "      <td>0.000000</td>\n",
       "      <td>1.500000</td>\n",
       "      <td>5.000000</td>\n",
       "      <td>48.000000</td>\n",
       "      <td>0.000000</td>\n",
       "      <td>2.760000e+03</td>\n",
       "      <td>2000.000000</td>\n",
       "    </tr>\n",
       "    <tr>\n",
       "      <th>25%</th>\n",
       "      <td>1145.500000</td>\n",
       "      <td>5.900000</td>\n",
       "      <td>42.000000</td>\n",
       "      <td>94.000000</td>\n",
       "      <td>0.500000</td>\n",
       "      <td>1.428100e+04</td>\n",
       "      <td>2004.000000</td>\n",
       "    </tr>\n",
       "    <tr>\n",
       "      <th>50%</th>\n",
       "      <td>2291.000000</td>\n",
       "      <td>6.600000</td>\n",
       "      <td>56.000000</td>\n",
       "      <td>104.000000</td>\n",
       "      <td>10.910000</td>\n",
       "      <td>3.541600e+04</td>\n",
       "      <td>2008.000000</td>\n",
       "    </tr>\n",
       "    <tr>\n",
       "      <th>75%</th>\n",
       "      <td>3436.500000</td>\n",
       "      <td>7.200000</td>\n",
       "      <td>69.000000</td>\n",
       "      <td>116.000000</td>\n",
       "      <td>45.060000</td>\n",
       "      <td>9.317800e+04</td>\n",
       "      <td>2013.000000</td>\n",
       "    </tr>\n",
       "    <tr>\n",
       "      <th>max</th>\n",
       "      <td>4582.000000</td>\n",
       "      <td>9.000000</td>\n",
       "      <td>100.000000</td>\n",
       "      <td>366.000000</td>\n",
       "      <td>936.660000</td>\n",
       "      <td>1.865768e+06</td>\n",
       "      <td>2017.000000</td>\n",
       "    </tr>\n",
       "  </tbody>\n",
       "</table>\n",
       "</div>"
      ],
      "text/plain": [
       "        Unnamed: 0  audienceRating  criticRating      timeMin  grossMillions  \\\n",
       "count  4583.000000     4583.000000   4583.000000  4583.000000    4583.000000   \n",
       "mean   2291.000000        6.510081     55.227144   107.127646      37.234787   \n",
       "std    1323.142472        0.993184     17.947463    18.810458      66.157452   \n",
       "min       0.000000        1.500000      5.000000    48.000000       0.000000   \n",
       "25%    1145.500000        5.900000     42.000000    94.000000       0.500000   \n",
       "50%    2291.000000        6.600000     56.000000   104.000000      10.910000   \n",
       "75%    3436.500000        7.200000     69.000000   116.000000      45.060000   \n",
       "max    4582.000000        9.000000    100.000000   366.000000     936.660000   \n",
       "\n",
       "               Vote         Year  \n",
       "count  4.583000e+03  4583.000000  \n",
       "mean   8.450176e+04  2008.365263  \n",
       "std    1.334644e+05     5.102369  \n",
       "min    2.760000e+03  2000.000000  \n",
       "25%    1.428100e+04  2004.000000  \n",
       "50%    3.541600e+04  2008.000000  \n",
       "75%    9.317800e+04  2013.000000  \n",
       "max    1.865768e+06  2017.000000  "
      ]
     },
     "execution_count": 14,
     "metadata": {},
     "output_type": "execute_result"
    }
   ],
   "source": [
    "dataMoviesFull.describe()"
   ]
  },
  {
   "cell_type": "code",
   "execution_count": 15,
   "metadata": {},
   "outputs": [],
   "source": [
    "# convert in category to count and use these columns\n",
    "dataMoviesFull.Genre = dataMoviesFull.Genre.astype('category')\n",
    "dataMoviesFull.Movie = dataMoviesFull.Movie.astype('category')"
   ]
  },
  {
   "cell_type": "code",
   "execution_count": 16,
   "metadata": {},
   "outputs": [
    {
     "name": "stdout",
     "output_type": "stream",
     "text": [
      "<class 'pandas.core.frame.DataFrame'>\n",
      "RangeIndex: 4583 entries, 0 to 4582\n",
      "Data columns (total 9 columns):\n",
      "Unnamed: 0        4583 non-null int64\n",
      "audienceRating    4583 non-null float64\n",
      "Genre             4583 non-null category\n",
      "criticRating      4583 non-null int64\n",
      "timeMin           4583 non-null int64\n",
      "grossMillions     4583 non-null float64\n",
      "Movie             4583 non-null category\n",
      "Vote              4583 non-null int64\n",
      "Year              4583 non-null int64\n",
      "dtypes: category(2), float64(2), int64(5)\n",
      "memory usage: 460.5 KB\n"
     ]
    }
   ],
   "source": [
    "dataMoviesFull.info()"
   ]
  },
  {
   "cell_type": "code",
   "execution_count": 17,
   "metadata": {},
   "outputs": [
    {
     "data": {
      "text/plain": [
       "Index(['Action', 'Adventure', 'Animation', 'Biography', 'Comedy', 'Crime',\n",
       "       'Documentary', 'Drama', 'Family', 'Fantasy', 'Horror', 'Music',\n",
       "       'Mystery', 'Romance', 'Sci', 'Thriller', 'War', 'Western'],\n",
       "      dtype='object')"
      ]
     },
     "execution_count": 17,
     "metadata": {},
     "output_type": "execute_result"
    }
   ],
   "source": [
    "dataMoviesFull.Genre.cat.categories"
   ]
  },
  {
   "cell_type": "code",
   "execution_count": 18,
   "metadata": {},
   "outputs": [
    {
     "data": {
      "text/plain": [
       "'Mystery'"
      ]
     },
     "execution_count": 18,
     "metadata": {},
     "output_type": "execute_result"
    }
   ],
   "source": [
    "dataMoviesFull.Genre[1]"
   ]
  },
  {
   "cell_type": "markdown",
   "metadata": {},
   "source": [
    "# Divide the dataframe"
   ]
  },
  {
   "cell_type": "markdown",
   "metadata": {},
   "source": [
    "# 2000 - 2005"
   ]
  },
  {
   "cell_type": "code",
   "execution_count": 19,
   "metadata": {},
   "outputs": [],
   "source": [
    "# Subsetting the dataframe\n",
    "dataMoviesFull_2000_2005_genre1 = dataMoviesFull.loc[(dataMoviesFull.Year >= 2000) & (dataMoviesFull.Year <= 2005) & \\\n",
    "                                                    ((dataMoviesFull.Genre == 'Action') | (dataMoviesFull.Genre == 'Adventure') | \\\n",
    "                                                     (dataMoviesFull.Genre == 'Animation') | \\\n",
    "                                                     (dataMoviesFull.Genre == 'Biography') | (dataMoviesFull.Genre == 'Comedy') \\\n",
    "                                                     | (dataMoviesFull.Genre == 'Crime'))]"
   ]
  },
  {
   "cell_type": "markdown",
   "metadata": {},
   "source": [
    "# 2006 - 2011"
   ]
  },
  {
   "cell_type": "code",
   "execution_count": 20,
   "metadata": {},
   "outputs": [],
   "source": [
    "dataMoviesFull_2006_2011_genre2 = dataMoviesFull.loc[(dataMoviesFull.Year >= 2006) & (dataMoviesFull.Year <= 2011) & \\\n",
    "                                                    ((dataMoviesFull.Genre == 'Documentary') | (dataMoviesFull.Genre == 'Drama')\n",
    "                                                    | (dataMoviesFull.Genre == 'Family') | (dataMoviesFull.Genre == 'Fantasy')\n",
    "                                                    | (dataMoviesFull.Genre == 'Horror') | (dataMoviesFull.Genre == 'Music'))]"
   ]
  },
  {
   "cell_type": "markdown",
   "metadata": {},
   "source": [
    "# 2012  - 2017 "
   ]
  },
  {
   "cell_type": "code",
   "execution_count": 21,
   "metadata": {},
   "outputs": [],
   "source": [
    "dataMoviesFull_2012_2017_genre2 = dataMoviesFull.loc[(dataMoviesFull.Year >= 2012) & (dataMoviesFull.Year <= 2017) & \\\n",
    "                                                    ((dataMoviesFull.Genre == 'Mystry') | (dataMoviesFull.Genre == 'Romance')\n",
    "                                                    | (dataMoviesFull.Genre == 'Sci') | (dataMoviesFull.Genre == 'Thriller')\n",
    "                                                    | (dataMoviesFull.Genre == 'War') | (dataMoviesFull.Genre == 'Western'))]"
   ]
  },
  {
   "cell_type": "markdown",
   "metadata": {},
   "source": [
    "# Visulization of Data"
   ]
  },
  {
   "cell_type": "code",
   "execution_count": 22,
   "metadata": {},
   "outputs": [],
   "source": [
    "import matplotlib.pyplot as plt\n",
    "import seaborn as sns"
   ]
  },
  {
   "cell_type": "code",
   "execution_count": 23,
   "metadata": {},
   "outputs": [
    {
     "data": {
      "text/plain": [
       "Index(['Action', 'Adventure', 'Animation', 'Biography', 'Comedy', 'Crime'], dtype='object')"
      ]
     },
     "execution_count": 23,
     "metadata": {},
     "output_type": "execute_result"
    }
   ],
   "source": [
    "dataMoviesFull_2000_2005_genre1.Genre.cat.categories[0:6]"
   ]
  },
  {
   "cell_type": "markdown",
   "metadata": {},
   "source": [
    "# Graphical representation of audience ratings based on critics ratings between 2000 and 2017"
   ]
  },
  {
   "cell_type": "code",
   "execution_count": 24,
   "metadata": {},
   "outputs": [
    {
     "data": {
      "image/png": "[encoded data removed]",
      "text/plain": [
       "<Figure size 432x432 with 3 Axes>"
      ]
     },
     "metadata": {
      "needs_background": "light"
     },
     "output_type": "display_data"
    }
   ],
   "source": [
    "j1 = sns.jointplot(data = dataMoviesFull, x = 'criticRating', y = 'audienceRating')"
   ]
  },
  {
   "cell_type": "markdown",
   "metadata": {},
   "source": [
    "# Hexagon representation of audience ratings based on critics ratings between 2000 and 2017"
   ]
  },
  {
   "cell_type": "code",
   "execution_count": 25,
   "metadata": {},
   "outputs": [
    {
     "data": {
      "image/png": "[encoded data removed]",
      "text/plain": [
       "<Figure size 432x432 with 3 Axes>"
      ]
     },
     "metadata": {
      "needs_background": "light"
     },
     "output_type": "display_data"
    }
   ],
   "source": [
    "k1 = sns.jointplot(data=dataMoviesFull, x='criticRating', y='audienceRating', kind='hex') #On this graph, we can see the linearity of the notes between the audience and the critics."
   ]
  },
  {
   "cell_type": "markdown",
   "metadata": {},
   "source": [
    "# The most popular movies by the public and critics between 2000 and 2017\n",
    "After searching the dataset, we can determine the most popular movies by the public and the critics. The best movies appreciated by the public between 2000 and 2017 are:\n",
    "\n",
    "\"The Century of the Self” released in 2002 with a score of 9/10.\n",
    "\"The Dark Knight: The Black Knight” released in 2008 with a score of 9/10.\n",
    "\n",
    "The movie most appreciated by the critics is:\n",
    "\n",
    "“Boyhood” released in 2014 with a score of 100/100."
   ]
  },
  {
   "cell_type": "markdown",
   "metadata": {},
   "source": [
    "# Graphical representation of audience ratings by length of film between 2000 and 2017"
   ]
  },
  {
   "cell_type": "code",
   "execution_count": 27,
   "metadata": {},
   "outputs": [
    {
     "data": {
      "image/png": "[encoded data removed]",
      "text/plain": [
       "<Figure size 432x432 with 3 Axes>"
      ]
     },
     "metadata": {
      "needs_background": "light"
     },
     "output_type": "display_data"
    }
   ],
   "source": [
    "j2 = sns.jointplot(data=dataMoviesFull, y='audienceRating', x='timeMin')"
   ]
  },
  {
   "cell_type": "markdown",
   "metadata": {},
   "source": [
    "On this graph, we see that most of the movies last between 60 minutes and 120 minutes and collect the most scores and these scores are between 4/10 and 8/10 with a majority of scores above 6/10.\n",
    "\n",
    "For some films that last more than 3 hours (180 minutes), we notice that the public appreciates them because it generally gives a score above 7/10. In this graph, we see that the longest film lasts 366 minutes, ie 6 hours and 10 minutes and has a score of 8.5/10, and after a search in the dataset, it is about the film “Our best years” released in 2003 which is a drama film."
   ]
  },
  {
   "cell_type": "markdown",
   "metadata": {},
   "source": [
    "# Graphical representation of the ratings of the critics according to the duration of the film between 2000 and 2017"
   ]
  },
  {
   "cell_type": "code",
   "execution_count": 28,
   "metadata": {},
   "outputs": [
    {
     "data": {
      "image/png": "[encoded data removed]",
      "text/plain": [
       "<Figure size 432x432 with 3 Axes>"
      ]
     },
     "metadata": {
      "needs_background": "light"
     },
     "output_type": "display_data"
    }
   ],
   "source": [
    "j3 = sns.jointplot(data=dataMoviesFull, y='criticRating', x='timeMin')"
   ]
  },
  {
   "cell_type": "markdown",
   "metadata": {},
   "source": [
    "On this graph, we note that for films between 60 minutes and 120 minutes, the ratings of the critics are more concentrated and vary between 10/100 and 98/100."
   ]
  },
  {
   "cell_type": "markdown",
   "metadata": {},
   "source": [
    "# Graphical representation of the gross of the films according to the notes of the public between 2000 and 2017"
   ]
  },
  {
   "cell_type": "code",
   "execution_count": 29,
   "metadata": {},
   "outputs": [
    {
     "data": {
      "image/png": "[encoded data removed]",
      "text/plain": [
       "<Figure size 432x432 with 3 Axes>"
      ]
     },
     "metadata": {
      "needs_background": "light"
     },
     "output_type": "display_data"
    }
   ],
   "source": [
    "j4 = sns.jointplot(data=dataMoviesFull, y='grossMillions', x='audienceRating')"
   ]
  },
  {
   "cell_type": "markdown",
   "metadata": {},
   "source": [
    "On this chart, it is clear that the movies that have been well rated by the public are movies that have generated the most millions of dollars, which is logical because if people have enjoyed a movie, they will talk about them, which will encourage other people to go to the cinema to see it, and thus increase the gross of the movie. Audience (public) ratings are more concentrated between 5/10 and 8/10.\n",
    "\n",
    "Movies that last a long time usually have a high score given by the audience\n",
    "\n",
    "In the dataset, the movie that brought in the most millions of dollars is the movie “Star Wars: Episode VII – The Force Awakens” with 936.66 million dollars released in 2015."
   ]
  },
  {
   "cell_type": "markdown",
   "metadata": {},
   "source": [
    "# Graphic representation of the gross of the films according to the scores of the critics between 2000 and 2017"
   ]
  },
  {
   "cell_type": "code",
   "execution_count": 30,
   "metadata": {},
   "outputs": [
    {
     "data": {
      "image/png": "[encoded data removed]",
      "text/plain": [
       "<Figure size 432x432 with 3 Axes>"
      ]
     },
     "metadata": {
      "needs_background": "light"
     },
     "output_type": "display_data"
    }
   ],
   "source": [
    "j5 = sns.jointplot(data=dataMoviesFull, x='criticRating', y='grossMillions')"
   ]
  },
  {
   "cell_type": "markdown",
   "metadata": {},
   "source": [
    "In this graph, we note that the ratings of the critics are more concentrated between 30/100 and 80/100, which means that the critics are more demanding towards the films than the public. We also note that the films that have high ratings from critics are those who have brought back a lot of money."
   ]
  },
  {
   "cell_type": "markdown",
   "metadata": {},
   "source": [
    "# Graphical representation of the number of votes according to the scores of the public between 2000 and 2017"
   ]
  },
  {
   "cell_type": "code",
   "execution_count": 31,
   "metadata": {},
   "outputs": [
    {
     "data": {
      "image/png": "[encoded data removed]",
      "text/plain": [
       "<Figure size 432x432 with 3 Axes>"
      ]
     },
     "metadata": {
      "needs_background": "light"
     },
     "output_type": "display_data"
    }
   ],
   "source": [
    "j6 = sns.jointplot(data=dataMoviesFull, x='audienceRating', y='Vote')"
   ]
  },
  {
   "cell_type": "markdown",
   "metadata": {},
   "source": [
    "# Graphic representation of the gross of the films according to the duration of the film between 2000 and 2017"
   ]
  },
  {
   "cell_type": "code",
   "execution_count": 32,
   "metadata": {},
   "outputs": [
    {
     "data": {
      "image/png": "[encoded data removed]",
      "text/plain": [
       "<Figure size 432x432 with 3 Axes>"
      ]
     },
     "metadata": {
      "needs_background": "light"
     },
     "output_type": "display_data"
    }
   ],
   "source": [
    "j7 = sns.jointplot(data=dataMoviesFull, x='timeMin', y='grossMillions')"
   ]
  },
  {
   "cell_type": "markdown",
   "metadata": {},
   "source": [
    "On this graph, we notice that the movies between 60 minutes and 150 minutes (2h30) are the ones that bring the most. On the other hand, movies with a very long duration, exceeding 3 hours, yield much less, that is to say, under one million dollars.\n",
    "\n",
    "We deduce that a director should avoid making a film with a duration at least 3 hours, and that he should limit his movie to duration between 1 and 2:30 so that his audience does not get tired during the projection of the film."
   ]
  },
  {
   "cell_type": "markdown",
   "metadata": {},
   "source": [
    "# Distribution by audience, critics, duration, gross, votes and year"
   ]
  },
  {
   "cell_type": "code",
   "execution_count": 33,
   "metadata": {},
   "outputs": [
    {
     "data": {
      "image/png": "[encoded data removed]",
      "text/plain": [
       "<Figure size 864x576 with 6 Axes>"
      ]
     },
     "metadata": {
      "needs_background": "light"
     },
     "output_type": "display_data"
    }
   ],
   "source": [
    "fig, axes = plt.subplots(2, 3)\n",
    "fig.set_size_inches(12, 8)\n",
    "\n",
    "m1 = sns.distplot(dataMoviesFull.audienceRating, bins=15, ax=axes[0, 0])\n",
    "m2 = sns.distplot(dataMoviesFull.criticRating, bins=15, ax=axes[0, 1])\n",
    "m3 = sns.distplot(dataMoviesFull.timeMin, bins=15, ax=axes[0, 2])\n",
    "m4 = sns.distplot(dataMoviesFull.grossMillions, bins=15, ax=axes[1, 0])\n",
    "m5 = sns.distplot(dataMoviesFull.Vote, bins=15, ax=axes[1, 1])\n",
    "m6 = sns.distplot(dataMoviesFull.Year, bins=15, ax=axes[1, 2])\n",
    "\n",
    "#plt.setp(axes, yticks=[])\n",
    "plt.tight_layout()"
   ]
  },
  {
   "cell_type": "markdown",
   "metadata": {},
   "source": [
    "* Audience Ratings: Most of the audience ratings are between 6/10 and 7/10.\n",
    "* Critics Ratings: Most critics ratings are between 40/100 and 70/100.\n",
    "* Duration of the movie: a large number of films have a duration of 100 minutes (1h40).\n",
    "* Movie Gross: Most movies are worth between 0 and 100 million dollars.\n",
    "* Number of votes: Most votes are between 0 and 250000 votes.\n",
    "* Year: Many movies were released in 2000, 2009 and 2017."
   ]
  },
  {
   "cell_type": "markdown",
   "metadata": {},
   "source": [
    "# Genre1 2000-2017"
   ]
  },
  {
   "cell_type": "code",
   "execution_count": 34,
   "metadata": {},
   "outputs": [],
   "source": [
    "# subsetting the dataframe\n",
    "dataMovies_2000_2017_genre1 = dataMoviesFull.loc[(dataMoviesFull.Genre == 'Action') | (dataMoviesFull.Genre == 'Adventure') | \\\n",
    "                       (dataMoviesFull.Genre == 'Animation') | (dataMoviesFull.Genre == 'Biography') | \\\n",
    "                       (dataMoviesFull.Genre == 'Comedy') | (dataMoviesFull.Genre == 'Crime')]"
   ]
  },
  {
   "cell_type": "code",
   "execution_count": 35,
   "metadata": {},
   "outputs": [
    {
     "name": "stdout",
     "output_type": "stream",
     "text": [
      "<class 'pandas.core.frame.DataFrame'>\n",
      "Int64Index: 3206 entries, 0 to 4582\n",
      "Data columns (total 9 columns):\n",
      "Unnamed: 0        3206 non-null int64\n",
      "audienceRating    3206 non-null float64\n",
      "Genre             3206 non-null category\n",
      "criticRating      3206 non-null int64\n",
      "timeMin           3206 non-null int64\n",
      "grossMillions     3206 non-null float64\n",
      "Movie             3206 non-null category\n",
      "Vote              3206 non-null int64\n",
      "Year              3206 non-null int64\n",
      "dtypes: category(2), float64(2), int64(5)\n",
      "memory usage: 406.2 KB\n"
     ]
    }
   ],
   "source": [
    "dataMovies_2000_2017_genre1.info()"
   ]
  },
  {
   "cell_type": "code",
   "execution_count": 36,
   "metadata": {},
   "outputs": [
    {
     "data": {
      "text/plain": [
       "Index(['Action', 'Adventure', 'Animation', 'Biography', 'Comedy', 'Crime',\n",
       "       'Documentary', 'Drama', 'Family', 'Fantasy', 'Horror', 'Music',\n",
       "       'Mystery', 'Romance', 'Sci', 'Thriller', 'War', 'Western'],\n",
       "      dtype='object')"
      ]
     },
     "execution_count": 36,
     "metadata": {},
     "output_type": "execute_result"
    }
   ],
   "source": [
    "dataMovies_2000_2017_genre1.Genre.cat.categories"
   ]
  },
  {
   "cell_type": "code",
   "execution_count": 46,
   "metadata": {},
   "outputs": [],
   "source": [
    "dataMovies_2000_2017_genre1.Genre = dataMovies_2000_2017_genre1.Genre.cat.remove_unused_categories()"
   ]
  },
  {
   "cell_type": "code",
   "execution_count": 47,
   "metadata": {},
   "outputs": [
    {
     "data": {
      "text/plain": [
       "Index(['Action', 'Adventure', 'Animation', 'Biography', 'Comedy', 'Crime'], dtype='object')"
      ]
     },
     "execution_count": 47,
     "metadata": {},
     "output_type": "execute_result"
    }
   ],
   "source": [
    "dataMovies_2000_2017_genre1.Genre.cat.categories"
   ]
  },
  {
   "cell_type": "code",
   "execution_count": 48,
   "metadata": {},
   "outputs": [
    {
     "data": {
      "text/html": [
       "<div>\n",
       "<style scoped>\n",
       "    .dataframe tbody tr th:only-of-type {\n",
       "        vertical-align: middle;\n",
       "    }\n",
       "\n",
       "    .dataframe tbody tr th {\n",
       "        vertical-align: top;\n",
       "    }\n",
       "\n",
       "    .dataframe thead th {\n",
       "        text-align: right;\n",
       "    }\n",
       "</style>\n",
       "<table border=\"1\" class=\"dataframe\">\n",
       "  <thead>\n",
       "    <tr style=\"text-align: right;\">\n",
       "      <th></th>\n",
       "      <th>audienceRating</th>\n",
       "      <th>Genre</th>\n",
       "      <th>criticRating</th>\n",
       "      <th>timeMin</th>\n",
       "      <th>grossMillions</th>\n",
       "      <th>Movie</th>\n",
       "      <th>Vote</th>\n",
       "      <th>Year</th>\n",
       "    </tr>\n",
       "  </thead>\n",
       "  <tbody>\n",
       "    <tr>\n",
       "      <th>0</th>\n",
       "      <td>8.5</td>\n",
       "      <td>Action</td>\n",
       "      <td>67</td>\n",
       "      <td>155</td>\n",
       "      <td>187.71</td>\n",
       "      <td>Gladiator</td>\n",
       "      <td>1096457</td>\n",
       "      <td>2000</td>\n",
       "    </tr>\n",
       "    <tr>\n",
       "      <th>2</th>\n",
       "      <td>8.3</td>\n",
       "      <td>Comedy</td>\n",
       "      <td>55</td>\n",
       "      <td>104</td>\n",
       "      <td>30.33</td>\n",
       "      <td>Snatch - Tu braques ou tu raques</td>\n",
       "      <td>663244</td>\n",
       "      <td>2000</td>\n",
       "    </tr>\n",
       "    <tr>\n",
       "      <th>4</th>\n",
       "      <td>7.4</td>\n",
       "      <td>Action</td>\n",
       "      <td>64</td>\n",
       "      <td>104</td>\n",
       "      <td>157.30</td>\n",
       "      <td>X-Men</td>\n",
       "      <td>498388</td>\n",
       "      <td>2000</td>\n",
       "    </tr>\n",
       "    <tr>\n",
       "      <th>5</th>\n",
       "      <td>7.8</td>\n",
       "      <td>Adventure</td>\n",
       "      <td>73</td>\n",
       "      <td>143</td>\n",
       "      <td>233.63</td>\n",
       "      <td>Seul au monde</td>\n",
       "      <td>435798</td>\n",
       "      <td>2000</td>\n",
       "    </tr>\n",
       "    <tr>\n",
       "      <th>6</th>\n",
       "      <td>7.6</td>\n",
       "      <td>Crime</td>\n",
       "      <td>64</td>\n",
       "      <td>102</td>\n",
       "      <td>15.07</td>\n",
       "      <td>American Psycho</td>\n",
       "      <td>396271</td>\n",
       "      <td>2000</td>\n",
       "    </tr>\n",
       "  </tbody>\n",
       "</table>\n",
       "</div>"
      ],
      "text/plain": [
       "   audienceRating      Genre  criticRating  timeMin  grossMillions  \\\n",
       "0             8.5     Action            67      155         187.71   \n",
       "2             8.3     Comedy            55      104          30.33   \n",
       "4             7.4     Action            64      104         157.30   \n",
       "5             7.8  Adventure            73      143         233.63   \n",
       "6             7.6      Crime            64      102          15.07   \n",
       "\n",
       "                              Movie     Vote  Year  \n",
       "0                         Gladiator  1096457  2000  \n",
       "2  Snatch - Tu braques ou tu raques   663244  2000  \n",
       "4                             X-Men   498388  2000  \n",
       "5                     Seul au monde   435798  2000  \n",
       "6                   American Psycho   396271  2000  "
      ]
     },
     "execution_count": 48,
     "metadata": {},
     "output_type": "execute_result"
    }
   ],
   "source": [
    "dataMovies_2000_2017_genre1.head()"
   ]
  },
  {
   "cell_type": "code",
   "execution_count": null,
   "metadata": {},
   "outputs": [],
   "source": []
  },
  {
   "cell_type": "code",
   "execution_count": 41,
   "metadata": {},
   "outputs": [
    {
     "data": {
      "text/html": [
       "<div>\n",
       "<style scoped>\n",
       "    .dataframe tbody tr th:only-of-type {\n",
       "        vertical-align: middle;\n",
       "    }\n",
       "\n",
       "    .dataframe tbody tr th {\n",
       "        vertical-align: top;\n",
       "    }\n",
       "\n",
       "    .dataframe thead th {\n",
       "        text-align: right;\n",
       "    }\n",
       "</style>\n",
       "<table border=\"1\" class=\"dataframe\">\n",
       "  <thead>\n",
       "    <tr style=\"text-align: right;\">\n",
       "      <th></th>\n",
       "      <th>audienceRating</th>\n",
       "      <th>Genre</th>\n",
       "      <th>criticRating</th>\n",
       "      <th>timeMin</th>\n",
       "      <th>grossMillions</th>\n",
       "      <th>Movie</th>\n",
       "      <th>Vote</th>\n",
       "      <th>Year</th>\n",
       "    </tr>\n",
       "  </thead>\n",
       "  <tbody>\n",
       "    <tr>\n",
       "      <th>0</th>\n",
       "      <td>8.5</td>\n",
       "      <td>Action</td>\n",
       "      <td>67</td>\n",
       "      <td>155</td>\n",
       "      <td>187.71</td>\n",
       "      <td>Gladiator</td>\n",
       "      <td>1096457</td>\n",
       "      <td>2000</td>\n",
       "    </tr>\n",
       "    <tr>\n",
       "      <th>2</th>\n",
       "      <td>8.3</td>\n",
       "      <td>Comedy</td>\n",
       "      <td>55</td>\n",
       "      <td>104</td>\n",
       "      <td>30.33</td>\n",
       "      <td>Snatch - Tu braques ou tu raques</td>\n",
       "      <td>663244</td>\n",
       "      <td>2000</td>\n",
       "    </tr>\n",
       "    <tr>\n",
       "      <th>4</th>\n",
       "      <td>7.4</td>\n",
       "      <td>Action</td>\n",
       "      <td>64</td>\n",
       "      <td>104</td>\n",
       "      <td>157.30</td>\n",
       "      <td>X-Men</td>\n",
       "      <td>498388</td>\n",
       "      <td>2000</td>\n",
       "    </tr>\n",
       "    <tr>\n",
       "      <th>5</th>\n",
       "      <td>7.8</td>\n",
       "      <td>Adventure</td>\n",
       "      <td>73</td>\n",
       "      <td>143</td>\n",
       "      <td>233.63</td>\n",
       "      <td>Seul au monde</td>\n",
       "      <td>435798</td>\n",
       "      <td>2000</td>\n",
       "    </tr>\n",
       "    <tr>\n",
       "      <th>6</th>\n",
       "      <td>7.6</td>\n",
       "      <td>Crime</td>\n",
       "      <td>64</td>\n",
       "      <td>102</td>\n",
       "      <td>15.07</td>\n",
       "      <td>American Psycho</td>\n",
       "      <td>396271</td>\n",
       "      <td>2000</td>\n",
       "    </tr>\n",
       "  </tbody>\n",
       "</table>\n",
       "</div>"
      ],
      "text/plain": [
       "   audienceRating      Genre  criticRating  timeMin  grossMillions  \\\n",
       "0             8.5     Action            67      155         187.71   \n",
       "2             8.3     Comedy            55      104          30.33   \n",
       "4             7.4     Action            64      104         157.30   \n",
       "5             7.8  Adventure            73      143         233.63   \n",
       "6             7.6      Crime            64      102          15.07   \n",
       "\n",
       "                              Movie     Vote  Year  \n",
       "0                         Gladiator  1096457  2000  \n",
       "2  Snatch - Tu braques ou tu raques   663244  2000  \n",
       "4                             X-Men   498388  2000  \n",
       "5                     Seul au monde   435798  2000  \n",
       "6                   American Psycho   396271  2000  "
      ]
     },
     "execution_count": 41,
     "metadata": {},
     "output_type": "execute_result"
    }
   ],
   "source": []
  },
  {
   "cell_type": "markdown",
   "metadata": {},
   "source": [
    "# Genre2 2000-2017"
   ]
  },
  {
   "cell_type": "code",
   "execution_count": 50,
   "metadata": {},
   "outputs": [],
   "source": [
    "dataMovies_2000_2017_genre2 = dataMoviesFull.loc[(dataMoviesFull.Genre == 'Documentary') | (dataMoviesFull.Genre == 'Drama') | \\\n",
    "                       (dataMoviesFull.Genre == 'Family') | (dataMoviesFull.Genre == 'Fantasy') | \\\n",
    "                       (dataMoviesFull.Genre == 'Horror') | (dataMoviesFull.Genre == 'Music')]"
   ]
  },
  {
   "cell_type": "code",
   "execution_count": 51,
   "metadata": {},
   "outputs": [
    {
     "name": "stdout",
     "output_type": "stream",
     "text": [
      "<class 'pandas.core.frame.DataFrame'>\n",
      "Int64Index: 1329 entries, 3 to 4579\n",
      "Data columns (total 9 columns):\n",
      "Unnamed: 0        1329 non-null int64\n",
      "audienceRating    1329 non-null float64\n",
      "Genre             1329 non-null category\n",
      "criticRating      1329 non-null int64\n",
      "timeMin           1329 non-null int64\n",
      "grossMillions     1329 non-null float64\n",
      "Movie             1329 non-null category\n",
      "Vote              1329 non-null int64\n",
      "Year              1329 non-null int64\n",
      "dtypes: category(2), float64(2), int64(5)\n",
      "memory usage: 283.3 KB\n"
     ]
    }
   ],
   "source": [
    "dataMovies_2000_2017_genre2.info()"
   ]
  },
  {
   "cell_type": "code",
   "execution_count": 52,
   "metadata": {},
   "outputs": [
    {
     "data": {
      "text/plain": [
       "Index(['Action', 'Adventure', 'Animation', 'Biography', 'Comedy', 'Crime',\n",
       "       'Documentary', 'Drama', 'Family', 'Fantasy', 'Horror', 'Music',\n",
       "       'Mystery', 'Romance', 'Sci', 'Thriller', 'War', 'Western'],\n",
       "      dtype='object')"
      ]
     },
     "execution_count": 52,
     "metadata": {},
     "output_type": "execute_result"
    }
   ],
   "source": [
    "dataMovies_2000_2017_genre2.Genre.cat.categories"
   ]
  },
  {
   "cell_type": "code",
   "execution_count": 54,
   "metadata": {},
   "outputs": [
    {
     "data": {
      "text/plain": [
       "Index(['Documentary', 'Drama', 'Family', 'Fantasy', 'Horror', 'Music'], dtype='object')"
      ]
     },
     "execution_count": 54,
     "metadata": {},
     "output_type": "execute_result"
    }
   ],
   "source": [
    "dataMovies_2000_2017_genre2.Genre = dataMovies_2000_2017_genre2.Genre.cat.remove_unused_categories()\n",
    "\n",
    "dataMovies_2000_2017_genre2.Genre.cat.categories"
   ]
  },
  {
   "cell_type": "code",
   "execution_count": 56,
   "metadata": {},
   "outputs": [
    {
     "name": "stderr",
     "output_type": "stream",
     "text": [
      "C:\\Users\\ezgucsa\\AppData\\Local\\Continuum\\anaconda3\\lib\\site-packages\\pandas\\core\\frame.py:3940: SettingWithCopyWarning: \n",
      "A value is trying to be set on a copy of a slice from a DataFrame\n",
      "\n",
      "See the caveats in the documentation: http://pandas.pydata.org/pandas-docs/stable/indexing.html#indexing-view-versus-copy\n",
      "  errors=errors)\n"
     ]
    }
   ],
   "source": [
    "dataMovies_2000_2017_genre2.head()\n",
    "dataMovies_2000_2017_genre2.drop('Unnamed: 0',axis=1,inplace=True)"
   ]
  },
  {
   "cell_type": "code",
   "execution_count": 57,
   "metadata": {},
   "outputs": [
    {
     "data": {
      "text/html": [
       "<div>\n",
       "<style scoped>\n",
       "    .dataframe tbody tr th:only-of-type {\n",
       "        vertical-align: middle;\n",
       "    }\n",
       "\n",
       "    .dataframe tbody tr th {\n",
       "        vertical-align: top;\n",
       "    }\n",
       "\n",
       "    .dataframe thead th {\n",
       "        text-align: right;\n",
       "    }\n",
       "</style>\n",
       "<table border=\"1\" class=\"dataframe\">\n",
       "  <thead>\n",
       "    <tr style=\"text-align: right;\">\n",
       "      <th></th>\n",
       "      <th>audienceRating</th>\n",
       "      <th>Genre</th>\n",
       "      <th>criticRating</th>\n",
       "      <th>timeMin</th>\n",
       "      <th>grossMillions</th>\n",
       "      <th>Movie</th>\n",
       "      <th>Vote</th>\n",
       "      <th>Year</th>\n",
       "    </tr>\n",
       "  </thead>\n",
       "  <tbody>\n",
       "    <tr>\n",
       "      <th>3</th>\n",
       "      <td>8.3</td>\n",
       "      <td>Drama</td>\n",
       "      <td>68</td>\n",
       "      <td>102</td>\n",
       "      <td>3.64</td>\n",
       "      <td>Requiem for a Dream</td>\n",
       "      <td>640047</td>\n",
       "      <td>2000</td>\n",
       "    </tr>\n",
       "    <tr>\n",
       "      <th>7</th>\n",
       "      <td>7.2</td>\n",
       "      <td>Drama</td>\n",
       "      <td>62</td>\n",
       "      <td>106</td>\n",
       "      <td>95.01</td>\n",
       "      <td>Incassable</td>\n",
       "      <td>284747</td>\n",
       "      <td>2000</td>\n",
       "    </tr>\n",
       "    <tr>\n",
       "      <th>15</th>\n",
       "      <td>7.1</td>\n",
       "      <td>Horror</td>\n",
       "      <td>49</td>\n",
       "      <td>109</td>\n",
       "      <td>39.24</td>\n",
       "      <td>Pitch Black</td>\n",
       "      <td>204849</td>\n",
       "      <td>2000</td>\n",
       "    </tr>\n",
       "    <tr>\n",
       "      <th>18</th>\n",
       "      <td>6.7</td>\n",
       "      <td>Horror</td>\n",
       "      <td>36</td>\n",
       "      <td>98</td>\n",
       "      <td>53.33</td>\n",
       "      <td>Destination finale</td>\n",
       "      <td>196668</td>\n",
       "      <td>2000</td>\n",
       "    </tr>\n",
       "    <tr>\n",
       "      <th>20</th>\n",
       "      <td>8.1</td>\n",
       "      <td>Drama</td>\n",
       "      <td>83</td>\n",
       "      <td>154</td>\n",
       "      <td>5.38</td>\n",
       "      <td>Amours chiennes</td>\n",
       "      <td>190248</td>\n",
       "      <td>2000</td>\n",
       "    </tr>\n",
       "  </tbody>\n",
       "</table>\n",
       "</div>"
      ],
      "text/plain": [
       "    audienceRating   Genre  criticRating  timeMin  grossMillions  \\\n",
       "3              8.3   Drama            68      102           3.64   \n",
       "7              7.2   Drama            62      106          95.01   \n",
       "15             7.1  Horror            49      109          39.24   \n",
       "18             6.7  Horror            36       98          53.33   \n",
       "20             8.1   Drama            83      154           5.38   \n",
       "\n",
       "                  Movie    Vote  Year  \n",
       "3   Requiem for a Dream  640047  2000  \n",
       "7            Incassable  284747  2000  \n",
       "15          Pitch Black  204849  2000  \n",
       "18   Destination finale  196668  2000  \n",
       "20      Amours chiennes  190248  2000  "
      ]
     },
     "execution_count": 57,
     "metadata": {},
     "output_type": "execute_result"
    }
   ],
   "source": [
    "dataMovies_2000_2017_genre2.head()"
   ]
  },
  {
   "cell_type": "markdown",
   "metadata": {},
   "source": [
    "# Genre3 2000-2017"
   ]
  },
  {
   "cell_type": "code",
   "execution_count": 58,
   "metadata": {},
   "outputs": [],
   "source": [
    "dataMovies_2000_2017_genre3 = dataMoviesFull.loc[(dataMoviesFull.Genre == 'Mystery') | (dataMoviesFull.Genre == 'Romance') | \\\n",
    "                       (dataMoviesFull.Genre == 'Sci') | (dataMoviesFull.Genre == 'Thriller') | \\\n",
    "                       (dataMoviesFull.Genre == 'War') | (dataMoviesFull.Genre == 'Western')]"
   ]
  },
  {
   "cell_type": "code",
   "execution_count": 59,
   "metadata": {},
   "outputs": [
    {
     "name": "stdout",
     "output_type": "stream",
     "text": [
      "<class 'pandas.core.frame.DataFrame'>\n",
      "Int64Index: 48 entries, 1 to 4571\n",
      "Data columns (total 9 columns):\n",
      "Unnamed: 0        48 non-null int64\n",
      "audienceRating    48 non-null float64\n",
      "Genre             48 non-null category\n",
      "criticRating      48 non-null int64\n",
      "timeMin           48 non-null int64\n",
      "grossMillions     48 non-null float64\n",
      "Movie             48 non-null category\n",
      "Vote              48 non-null int64\n",
      "Year              48 non-null int64\n",
      "dtypes: category(2), float64(2), int64(5)\n",
      "memory usage: 199.5 KB\n"
     ]
    }
   ],
   "source": [
    "dataMovies_2000_2017_genre3.info()"
   ]
  },
  {
   "cell_type": "code",
   "execution_count": 60,
   "metadata": {},
   "outputs": [
    {
     "data": {
      "text/plain": [
       "Index(['Action', 'Adventure', 'Animation', 'Biography', 'Comedy', 'Crime',\n",
       "       'Documentary', 'Drama', 'Family', 'Fantasy', 'Horror', 'Music',\n",
       "       'Mystery', 'Romance', 'Sci', 'Thriller', 'War', 'Western'],\n",
       "      dtype='object')"
      ]
     },
     "execution_count": 60,
     "metadata": {},
     "output_type": "execute_result"
    }
   ],
   "source": [
    "dataMovies_2000_2017_genre3.Genre.cat.categories"
   ]
  },
  {
   "cell_type": "code",
   "execution_count": 61,
   "metadata": {},
   "outputs": [
    {
     "name": "stderr",
     "output_type": "stream",
     "text": [
      "C:\\Users\\ezgucsa\\AppData\\Local\\Continuum\\anaconda3\\lib\\site-packages\\pandas\\core\\generic.py:5096: SettingWithCopyWarning: \n",
      "A value is trying to be set on a copy of a slice from a DataFrame.\n",
      "Try using .loc[row_indexer,col_indexer] = value instead\n",
      "\n",
      "See the caveats in the documentation: http://pandas.pydata.org/pandas-docs/stable/indexing.html#indexing-view-versus-copy\n",
      "  self[name] = value\n"
     ]
    },
    {
     "data": {
      "text/plain": [
       "Index(['Mystery', 'Romance', 'Sci', 'Thriller', 'War', 'Western'], dtype='object')"
      ]
     },
     "execution_count": 61,
     "metadata": {},
     "output_type": "execute_result"
    }
   ],
   "source": [
    "dataMovies_2000_2017_genre3.Genre = dataMovies_2000_2017_genre3.Genre.cat.remove_unused_categories()\n",
    "\n",
    "dataMovies_2000_2017_genre3.Genre.cat.categories"
   ]
  },
  {
   "cell_type": "code",
   "execution_count": 63,
   "metadata": {},
   "outputs": [
    {
     "name": "stderr",
     "output_type": "stream",
     "text": [
      "C:\\Users\\ezgucsa\\AppData\\Local\\Continuum\\anaconda3\\lib\\site-packages\\pandas\\core\\frame.py:3940: SettingWithCopyWarning: \n",
      "A value is trying to be set on a copy of a slice from a DataFrame\n",
      "\n",
      "See the caveats in the documentation: http://pandas.pydata.org/pandas-docs/stable/indexing.html#indexing-view-versus-copy\n",
      "  errors=errors)\n"
     ]
    }
   ],
   "source": [
    "dataMovies_2000_2017_genre3.head()\n",
    "dataMovies_2000_2017_genre3.drop('Unnamed: 0',axis=1,inplace=True)"
   ]
  },
  {
   "cell_type": "code",
   "execution_count": 64,
   "metadata": {},
   "outputs": [
    {
     "data": {
      "text/html": [
       "<div>\n",
       "<style scoped>\n",
       "    .dataframe tbody tr th:only-of-type {\n",
       "        vertical-align: middle;\n",
       "    }\n",
       "\n",
       "    .dataframe tbody tr th {\n",
       "        vertical-align: top;\n",
       "    }\n",
       "\n",
       "    .dataframe thead th {\n",
       "        text-align: right;\n",
       "    }\n",
       "</style>\n",
       "<table border=\"1\" class=\"dataframe\">\n",
       "  <thead>\n",
       "    <tr style=\"text-align: right;\">\n",
       "      <th></th>\n",
       "      <th>audienceRating</th>\n",
       "      <th>Genre</th>\n",
       "      <th>criticRating</th>\n",
       "      <th>timeMin</th>\n",
       "      <th>grossMillions</th>\n",
       "      <th>Movie</th>\n",
       "      <th>Vote</th>\n",
       "      <th>Year</th>\n",
       "    </tr>\n",
       "  </thead>\n",
       "  <tbody>\n",
       "    <tr>\n",
       "      <th>1</th>\n",
       "      <td>8.5</td>\n",
       "      <td>Mystery</td>\n",
       "      <td>80</td>\n",
       "      <td>113</td>\n",
       "      <td>25.54</td>\n",
       "      <td>Memento</td>\n",
       "      <td>942923</td>\n",
       "      <td>2000</td>\n",
       "    </tr>\n",
       "    <tr>\n",
       "      <th>184</th>\n",
       "      <td>7.1</td>\n",
       "      <td>Romance</td>\n",
       "      <td>78</td>\n",
       "      <td>135</td>\n",
       "      <td>3.04</td>\n",
       "      <td>Chez les heureux du monde</td>\n",
       "      <td>6641</td>\n",
       "      <td>2000</td>\n",
       "    </tr>\n",
       "    <tr>\n",
       "      <th>223</th>\n",
       "      <td>6.1</td>\n",
       "      <td>Romance</td>\n",
       "      <td>35</td>\n",
       "      <td>93</td>\n",
       "      <td>0.28</td>\n",
       "      <td>Peines d'amour perdues</td>\n",
       "      <td>4019</td>\n",
       "      <td>2000</td>\n",
       "    </tr>\n",
       "    <tr>\n",
       "      <th>326</th>\n",
       "      <td>6.6</td>\n",
       "      <td>Mystery</td>\n",
       "      <td>75</td>\n",
       "      <td>97</td>\n",
       "      <td>21.97</td>\n",
       "      <td>Une virée en enfer</td>\n",
       "      <td>56964</td>\n",
       "      <td>2001</td>\n",
       "    </tr>\n",
       "    <tr>\n",
       "      <th>477</th>\n",
       "      <td>7.3</td>\n",
       "      <td>War</td>\n",
       "      <td>56</td>\n",
       "      <td>112</td>\n",
       "      <td>0.26</td>\n",
       "      <td>Tmavomodrý svet</td>\n",
       "      <td>4941</td>\n",
       "      <td>2001</td>\n",
       "    </tr>\n",
       "  </tbody>\n",
       "</table>\n",
       "</div>"
      ],
      "text/plain": [
       "     audienceRating    Genre  criticRating  timeMin  grossMillions  \\\n",
       "1               8.5  Mystery            80      113          25.54   \n",
       "184             7.1  Romance            78      135           3.04   \n",
       "223             6.1  Romance            35       93           0.28   \n",
       "326             6.6  Mystery            75       97          21.97   \n",
       "477             7.3      War            56      112           0.26   \n",
       "\n",
       "                         Movie    Vote  Year  \n",
       "1                      Memento  942923  2000  \n",
       "184  Chez les heureux du monde    6641  2000  \n",
       "223     Peines d'amour perdues    4019  2000  \n",
       "326         Une virée en enfer   56964  2001  \n",
       "477            Tmavomodrý svet    4941  2001  "
      ]
     },
     "execution_count": 64,
     "metadata": {},
     "output_type": "execute_result"
    }
   ],
   "source": [
    "dataMovies_2000_2017_genre3.head()"
   ]
  },
  {
   "cell_type": "markdown",
   "metadata": {},
   "source": [
    "# Histogram of the gross by genre of movie between 2000 and 2017"
   ]
  },
  {
   "cell_type": "code",
   "execution_count": 65,
   "metadata": {},
   "outputs": [
    {
     "data": {
      "image/png": "[encoded data removed]",
      "text/plain": [
       "<Figure size 1080x216 with 3 Axes>"
      ]
     },
     "metadata": {},
     "output_type": "display_data"
    }
   ],
   "source": [
    "sns.set()\n",
    "\n",
    "#2000-2017\n",
    "grossByGenre_2000_2017_genre1 = list()\n",
    "grossByGenre_2000_2017_genre2 = list()\n",
    "grossByGenre_2000_2017_genre3 = list()\n",
    "\n",
    "labels_2000_2017_genre1 = list()\n",
    "labels_2000_2017_genre2 = list()\n",
    "labels_2000_2017_genre3 = list()\n",
    "\n",
    "#2000-2017\n",
    "#2000-2017 genre1\n",
    "for dataGenre_2000_2017_genre1 in dataMovies_2000_2017_genre1.Genre.cat.categories[0:6]:\n",
    "    grossByGenre_2000_2017_genre1.append(dataMovies_2000_2017_genre1[dataMovies_2000_2017_genre1.Genre == \\\n",
    "                                                                     dataGenre_2000_2017_genre1].grossMillions)\n",
    "    labels_2000_2017_genre1.append(dataGenre_2000_2017_genre1)\n",
    "\n",
    "#2000-2017 genre2\n",
    "for dataGenre_2000_2017_genre2 in dataMovies_2000_2017_genre2.Genre.cat.categories[0:6]:\n",
    "    grossByGenre_2000_2017_genre2.append(dataMovies_2000_2017_genre2[dataMovies_2000_2017_genre2.Genre == \\\n",
    "                                                                     dataGenre_2000_2017_genre2].grossMillions)\n",
    "    labels_2000_2017_genre2.append(dataGenre_2000_2017_genre2)\n",
    "\n",
    "#2000-2017 genre3\n",
    "for dataGenre_2000_2017_genre3 in dataMovies_2000_2017_genre3.Genre.cat.categories[0:6]:\n",
    "    grossByGenre_2000_2017_genre3.append(dataMovies_2000_2017_genre3[dataMovies_2000_2017_genre3.Genre == \\\n",
    "                                                                     dataGenre_2000_2017_genre3].grossMillions)\n",
    "    labels_2000_2017_genre3.append(dataGenre_2000_2017_genre3)   \n",
    "       \n",
    "# 3 lines, 3 columns\n",
    "fig, ax = plt.subplots(1,3)\n",
    "fig.set_size_inches(15, 3) #size of A4 paper   \n",
    "\n",
    "#2000-2017\n",
    "ax[0].hist(grossByGenre_2000_2017_genre1, bins=30, stacked=True, rwidth=1, label=labels_2000_2017_genre1)\n",
    "ax[1].hist(grossByGenre_2000_2017_genre2, bins=30, stacked=True, rwidth=1, label=labels_2000_2017_genre2)\n",
    "ax[2].hist(grossByGenre_2000_2017_genre3, bins=30, stacked=True, rwidth=1, label=labels_2000_2017_genre3)\n",
    "\n",
    "ax[0].set(xlabel='GrossMillions 2000-2017', ylabel='Number of movies')\n",
    "ax[1].set(xlabel='GrossMillions 2000-2017')\n",
    "ax[2].set(xlabel='GrossMillions 2000-2017')\n",
    "\n",
    "plt.suptitle('Movie Gross Distribution: 2000-2017')\n",
    "for i in range(3):\n",
    "    ax[i].legend()\n",
    "\n",
    "plt.show()\n"
   ]
  },
  {
   "cell_type": "markdown",
   "metadata": {},
   "source": [
    "On this histogram, we see that the movies of biography, comedy, crime, drama and horror were the most numerous between 2000 and 2017. There were few mystery, western or war movies during this period.\n",
    "\n",
    "We also note that the films that brought in the most (between 200 and 400 million dollars) are action, drama, and mystery movies."
   ]
  },
  {
   "cell_type": "markdown",
   "metadata": {},
   "source": [
    "# Histogram of audience ratings by genre of movie between 2000 and 2017"
   ]
  },
  {
   "cell_type": "code",
   "execution_count": 66,
   "metadata": {},
   "outputs": [
    {
     "data": {
      "image/png": "[encoded data removed]",
      "text/plain": [
       "<Figure size 1080x216 with 3 Axes>"
      ]
     },
     "metadata": {},
     "output_type": "display_data"
    }
   ],
   "source": [
    "sns.set()\n",
    "\n",
    "#2000-2017\n",
    "grossByGenre_2000_2017_genre1 = list()\n",
    "grossByGenre_2000_2017_genre2 = list()\n",
    "grossByGenre_2000_2017_genre3 = list()\n",
    "\n",
    "labels_2000_2017_genre1 = list()\n",
    "labels_2000_2017_genre2 = list()\n",
    "labels_2000_2017_genre3 = list()\n",
    "\n",
    "#2000-2017\n",
    "#2000-2017 genre1\n",
    "for dataGenre_2000_2017_genre1 in dataMovies_2000_2017_genre1.Genre.cat.categories[0:6]:\n",
    "    grossByGenre_2000_2017_genre1.append(dataMovies_2000_2017_genre1[dataMovies_2000_2017_genre1.Genre == \\\n",
    "                                                                     dataGenre_2000_2017_genre1].audienceRating)\n",
    "    labels_2000_2017_genre1.append(dataGenre_2000_2017_genre1)\n",
    "\n",
    "#2000-2017 genre2\n",
    "for dataGenre_2000_2017_genre2 in dataMovies_2000_2017_genre2.Genre.cat.categories[0:6]:\n",
    "    grossByGenre_2000_2017_genre2.append(dataMovies_2000_2017_genre2[dataMovies_2000_2017_genre2.Genre == \\\n",
    "                                                                     dataGenre_2000_2017_genre2].audienceRating)\n",
    "    labels_2000_2017_genre2.append(dataGenre_2000_2017_genre2)\n",
    "\n",
    "#2000-2017 genre3\n",
    "for dataGenre_2000_2017_genre3 in dataMovies_2000_2017_genre3.Genre.cat.categories[0:6]:\n",
    "    grossByGenre_2000_2017_genre3.append(dataMovies_2000_2017_genre3[dataMovies_2000_2017_genre3.Genre == \\\n",
    "                                                                     dataGenre_2000_2017_genre3].audienceRating)\n",
    "    labels_2000_2017_genre3.append(dataGenre_2000_2017_genre3)   \n",
    "       \n",
    "# 3 lines, 3 columns\n",
    "fig, ax = plt.subplots(1,3)\n",
    "fig.set_size_inches(15, 3) #size of A4 paper   \n",
    "\n",
    "#2000-2017\n",
    "ax[0].hist(grossByGenre_2000_2017_genre1, bins=30, stacked=True, rwidth=1, label=labels_2000_2017_genre1)\n",
    "ax[1].hist(grossByGenre_2000_2017_genre2, bins=30, stacked=True, rwidth=1, label=labels_2000_2017_genre2)\n",
    "ax[2].hist(grossByGenre_2000_2017_genre3, bins=30, stacked=True, rwidth=1, label=labels_2000_2017_genre3)\n",
    "\n",
    "ax[0].set(xlabel='audienceRating 2000-2017', ylabel='Number of movies')\n",
    "ax[1].set(xlabel='audienceRating 2000-2017')\n",
    "ax[2].set(xlabel='audienceRating 2000-2017')\n",
    "\n",
    "plt.suptitle('Movie audienceRating Distribution: 2000-2017')\n",
    "for i in range(3):\n",
    "    ax[i].legend()\n",
    "\n",
    "plt.show()\n"
   ]
  },
  {
   "cell_type": "markdown",
   "metadata": {},
   "source": [
    "We note that the action, adventure, animation, biography, comedy, crime, documentary, drama, mystery and science-fiction movies were the most appreciated by the audience (score superior or equal at 8/10)."
   ]
  },
  {
   "cell_type": "markdown",
   "metadata": {},
   "source": [
    "# Histogram of the critics ratings by genre of movie between 2000 and 2017"
   ]
  },
  {
   "cell_type": "code",
   "execution_count": 67,
   "metadata": {},
   "outputs": [
    {
     "data": {
      "image/png": "[encoded data removed]",
      "text/plain": [
       "<Figure size 1080x216 with 3 Axes>"
      ]
     },
     "metadata": {},
     "output_type": "display_data"
    }
   ],
   "source": [
    "sns.set()\n",
    "\n",
    "#2000-2017\n",
    "grossByGenre_2000_2017_genre1 = list()\n",
    "grossByGenre_2000_2017_genre2 = list()\n",
    "grossByGenre_2000_2017_genre3 = list()\n",
    "\n",
    "labels_2000_2017_genre1 = list()\n",
    "labels_2000_2017_genre2 = list()\n",
    "labels_2000_2017_genre3 = list()\n",
    "\n",
    "#2000-2017\n",
    "#2000-2017 genre1\n",
    "for dataGenre_2000_2017_genre1 in dataMovies_2000_2017_genre1.Genre.cat.categories[0:6]:\n",
    "    grossByGenre_2000_2017_genre1.append(dataMovies_2000_2017_genre1[dataMovies_2000_2017_genre1.Genre == \\\n",
    "                                                                     dataGenre_2000_2017_genre1].criticRating)\n",
    "    labels_2000_2017_genre1.append(dataGenre_2000_2017_genre1)\n",
    "\n",
    "#2000-2017 genre2\n",
    "for dataGenre_2000_2017_genre2 in dataMovies_2000_2017_genre2.Genre.cat.categories[0:6]:\n",
    "    grossByGenre_2000_2017_genre2.append(dataMovies_2000_2017_genre2[dataMovies_2000_2017_genre2.Genre == \\\n",
    "                                                                     dataGenre_2000_2017_genre2].criticRating)\n",
    "    labels_2000_2017_genre2.append(dataGenre_2000_2017_genre2)\n",
    "\n",
    "#2000-2017 genre3\n",
    "for dataGenre_2000_2017_genre3 in dataMovies_2000_2017_genre3.Genre.cat.categories[0:6]:\n",
    "    grossByGenre_2000_2017_genre3.append(dataMovies_2000_2017_genre3[dataMovies_2000_2017_genre3.Genre == \\\n",
    "                                                                     dataGenre_2000_2017_genre3].criticRating)\n",
    "    labels_2000_2017_genre3.append(dataGenre_2000_2017_genre3)   \n",
    "       \n",
    "# 3 lines, 3 columns\n",
    "fig, ax = plt.subplots(1,3)\n",
    "fig.set_size_inches(15, 3) #size of A4 paper   \n",
    "\n",
    "#2000-2017\n",
    "ax[0].hist(grossByGenre_2000_2017_genre1, bins=30, stacked=True, rwidth=1, label=labels_2000_2017_genre1)\n",
    "ax[1].hist(grossByGenre_2000_2017_genre2, bins=30, stacked=True, rwidth=1, label=labels_2000_2017_genre2)\n",
    "ax[2].hist(grossByGenre_2000_2017_genre3, bins=30, stacked=True, rwidth=1, label=labels_2000_2017_genre3)\n",
    "\n",
    "ax[1].set_ylim([0, 100])\n",
    "ax[2].set_ylim([0, 10])\n",
    "\n",
    "ax[0].set(xlabel='criticRating 2000-2017', ylabel='Number of movies')\n",
    "ax[1].set(xlabel='criticRating 2000-2017')\n",
    "ax[2].set(xlabel='criticRating 2000-2017')\n",
    "\n",
    "plt.suptitle('Movie criticRating Distribution: 2000-2017')\n",
    "for i in range(3):\n",
    "    ax[i].legend()\n",
    "\n",
    "plt.show()\n"
   ]
  },
  {
   "cell_type": "markdown",
   "metadata": {},
   "source": [
    "# Histogram of votes by genre of movie between 2000 and 2017"
   ]
  },
  {
   "cell_type": "code",
   "execution_count": 68,
   "metadata": {},
   "outputs": [
    {
     "name": "stderr",
     "output_type": "stream",
     "text": [
      "C:\\Users\\ezgucsa\\AppData\\Local\\Continuum\\anaconda3\\lib\\site-packages\\pandas\\core\\generic.py:5096: SettingWithCopyWarning: \n",
      "A value is trying to be set on a copy of a slice from a DataFrame.\n",
      "Try using .loc[row_indexer,col_indexer] = value instead\n",
      "\n",
      "See the caveats in the documentation: http://pandas.pydata.org/pandas-docs/stable/indexing.html#indexing-view-versus-copy\n",
      "  self[name] = value\n"
     ]
    },
    {
     "data": {
      "image/png": "[encoded data removed]",
      "text/plain": [
       "<Figure size 1080x216 with 3 Axes>"
      ]
     },
     "metadata": {},
     "output_type": "display_data"
    }
   ],
   "source": [
    "dataMovies_2000_2017_genre1.Year = dataMovies_2000_2017_genre1.Year.astype('int64')\n",
    "dataMovies_2000_2017_genre1.Year = dataMovies_2000_2017_genre1.Year.astype('int64')\n",
    "dataMovies_2000_2017_genre1.Year = dataMovies_2000_2017_genre1.Year.astype('int64')\n",
    "\n",
    "sns.set()\n",
    "\n",
    "#2000-2017\n",
    "grossByGenre_2000_2017_genre1 = list()\n",
    "grossByGenre_2000_2017_genre2 = list()\n",
    "grossByGenre_2000_2017_genre3 = list()\n",
    "\n",
    "labels_2000_2017_genre1 = list()\n",
    "labels_2000_2017_genre2 = list()\n",
    "labels_2000_2017_genre3 = list()\n",
    "\n",
    "#2000-2017\n",
    "#2000-2017 genre1\n",
    "for dataGenre_2000_2017_genre1 in dataMovies_2000_2017_genre1.Genre.cat.categories[0:6]:\n",
    "    grossByGenre_2000_2017_genre1.append(dataMovies_2000_2017_genre1[dataMovies_2000_2017_genre1.Genre == \\\n",
    "                                                                     dataGenre_2000_2017_genre1].Vote)\n",
    "    labels_2000_2017_genre1.append(dataGenre_2000_2017_genre1)\n",
    "\n",
    "#2000-2017 genre2\n",
    "for dataGenre_2000_2017_genre2 in dataMovies_2000_2017_genre2.Genre.cat.categories[0:6]:\n",
    "    grossByGenre_2000_2017_genre2.append(dataMovies_2000_2017_genre2[dataMovies_2000_2017_genre2.Genre == \\\n",
    "                                                                     dataGenre_2000_2017_genre2].Vote)\n",
    "    labels_2000_2017_genre2.append(dataGenre_2000_2017_genre2)\n",
    "\n",
    "#2000-2017 genre3\n",
    "for dataGenre_2000_2017_genre3 in dataMovies_2000_2017_genre3.Genre.cat.categories[0:6]:\n",
    "    grossByGenre_2000_2017_genre3.append(dataMovies_2000_2017_genre3[dataMovies_2000_2017_genre3.Genre == \\\n",
    "                                                                     dataGenre_2000_2017_genre3].Vote)\n",
    "    labels_2000_2017_genre3.append(dataGenre_2000_2017_genre3)   \n",
    "       \n",
    "# 3 lines, 3 columns\n",
    "fig, ax = plt.subplots(1,3)\n",
    "fig.set_size_inches(15, 3) #size of A4 paper   \n",
    "\n",
    "#2000-2017\n",
    "ax[0].hist(grossByGenre_2000_2017_genre1, bins=30, stacked=True, rwidth=1, label=labels_2000_2017_genre1)\n",
    "ax[1].hist(grossByGenre_2000_2017_genre2, bins=30, stacked=True, rwidth=1, label=labels_2000_2017_genre2)\n",
    "ax[2].hist(grossByGenre_2000_2017_genre3, bins=30, stacked=True, rwidth=1, label=labels_2000_2017_genre3)\n",
    "\n",
    "ax[0].set(xlabel='Vote 2000-2017', ylabel='Number of movies')\n",
    "ax[1].set(xlabel='Vote 2000-2017')\n",
    "ax[2].set(xlabel='Vote 2000-2017')\n",
    "\n",
    "plt.suptitle('Movie Vote Distribution: 2000-2017')\n",
    "for i in range(3):\n",
    "    ax[i].legend()\n",
    "\n",
    "plt.show()\n"
   ]
  },
  {
   "cell_type": "code",
   "execution_count": null,
   "metadata": {},
   "outputs": [],
   "source": []
  }
 ],
 "metadata": {
  "kernelspec": {
   "display_name": "Python 3",
   "language": "python",
   "name": "python3"
  },
  "language_info": {
   "codemirror_mode": {
    "name": "ipython",
    "version": 3
   },
   "file_extension": ".py",
   "mimetype": "text/x-python",
   "name": "python",
   "nbconvert_exporter": "python",
   "pygments_lexer": "ipython3",
   "version": "3.7.3"
  }
 },
 "nbformat": 4,
 "nbformat_minor": 2
}
